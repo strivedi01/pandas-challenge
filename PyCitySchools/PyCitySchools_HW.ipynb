{
 "cells": [
  {
   "cell_type": "markdown",
   "metadata": {},
   "source": [
    "### Note\n",
    "* Instructions have been included for each segment. You do not have to follow them exactly, but they are included to help you think through the steps."
   ]
  },
  {
   "cell_type": "code",
   "execution_count": 1,
   "metadata": {
    "collapsed": true
   },
   "outputs": [],
   "source": [
    "# Dependencies and Setup\n",
    "import pandas as pd"
   ]
  },
  {
   "cell_type": "code",
   "execution_count": 2,
   "metadata": {
    "collapsed": true
   },
   "outputs": [],
   "source": [
    "# File to Load (Remember to Change These)\n",
    "school_data_to_load = \"Resources/schools_complete.csv\"\n",
    "student_data_to_load = \"Resources/students_complete.csv\"\n",
    "\n",
    "# Read School and Student Data File and store into Pandas DataFrames\n",
    "school_data = pd.read_csv(school_data_to_load)\n",
    "student_data = pd.read_csv(student_data_to_load)\n",
    "\n",
    "# Combine the data into a single dataset.  \n",
    "school_data_complete = pd.merge(student_data, school_data, how=\"left\", on=[\"school_name\", \"school_name\"])"
   ]
  },
  {
   "cell_type": "code",
   "execution_count": 3,
   "metadata": {
    "collapsed": false
   },
   "outputs": [
    {
     "data": {
      "text/plain": [
       "(39170, 11)"
      ]
     },
     "execution_count": 3,
     "metadata": {},
     "output_type": "execute_result"
    }
   ],
   "source": [
    "school_data_complete.shape"
   ]
  },
  {
   "cell_type": "code",
   "execution_count": 4,
   "metadata": {
    "collapsed": false
   },
   "outputs": [
    {
     "data": {
      "text/html": [
       "<div>\n",
       "<table border=\"1\" class=\"dataframe\">\n",
       "  <thead>\n",
       "    <tr style=\"text-align: right;\">\n",
       "      <th></th>\n",
       "      <th>School ID</th>\n",
       "      <th>school_name</th>\n",
       "      <th>type</th>\n",
       "      <th>size</th>\n",
       "      <th>budget</th>\n",
       "    </tr>\n",
       "  </thead>\n",
       "  <tbody>\n",
       "    <tr>\n",
       "      <th>0</th>\n",
       "      <td>0</td>\n",
       "      <td>Huang High School</td>\n",
       "      <td>District</td>\n",
       "      <td>2917</td>\n",
       "      <td>1910635</td>\n",
       "    </tr>\n",
       "    <tr>\n",
       "      <th>1</th>\n",
       "      <td>1</td>\n",
       "      <td>Figueroa High School</td>\n",
       "      <td>District</td>\n",
       "      <td>2949</td>\n",
       "      <td>1884411</td>\n",
       "    </tr>\n",
       "  </tbody>\n",
       "</table>\n",
       "</div>"
      ],
      "text/plain": [
       "   School ID           school_name      type  size   budget\n",
       "0          0     Huang High School  District  2917  1910635\n",
       "1          1  Figueroa High School  District  2949  1884411"
      ]
     },
     "execution_count": 4,
     "metadata": {},
     "output_type": "execute_result"
    }
   ],
   "source": [
    "school_data.head(2)"
   ]
  },
  {
   "cell_type": "code",
   "execution_count": 5,
   "metadata": {
    "collapsed": false
   },
   "outputs": [
    {
     "data": {
      "text/plain": [
       "(15, 5)"
      ]
     },
     "execution_count": 5,
     "metadata": {},
     "output_type": "execute_result"
    }
   ],
   "source": [
    "school_data.shape"
   ]
  },
  {
   "cell_type": "code",
   "execution_count": 6,
   "metadata": {
    "collapsed": false
   },
   "outputs": [
    {
     "data": {
      "text/html": [
       "<div>\n",
       "<table border=\"1\" class=\"dataframe\">\n",
       "  <thead>\n",
       "    <tr style=\"text-align: right;\">\n",
       "      <th></th>\n",
       "      <th>Student ID</th>\n",
       "      <th>student_name</th>\n",
       "      <th>gender</th>\n",
       "      <th>grade</th>\n",
       "      <th>school_name</th>\n",
       "      <th>reading_score</th>\n",
       "      <th>math_score</th>\n",
       "    </tr>\n",
       "  </thead>\n",
       "  <tbody>\n",
       "    <tr>\n",
       "      <th>0</th>\n",
       "      <td>0</td>\n",
       "      <td>Paul Bradley</td>\n",
       "      <td>M</td>\n",
       "      <td>9th</td>\n",
       "      <td>Huang High School</td>\n",
       "      <td>66</td>\n",
       "      <td>79</td>\n",
       "    </tr>\n",
       "    <tr>\n",
       "      <th>1</th>\n",
       "      <td>1</td>\n",
       "      <td>Victor Smith</td>\n",
       "      <td>M</td>\n",
       "      <td>12th</td>\n",
       "      <td>Huang High School</td>\n",
       "      <td>94</td>\n",
       "      <td>61</td>\n",
       "    </tr>\n",
       "  </tbody>\n",
       "</table>\n",
       "</div>"
      ],
      "text/plain": [
       "   Student ID  student_name gender grade        school_name  reading_score  \\\n",
       "0           0  Paul Bradley      M   9th  Huang High School             66   \n",
       "1           1  Victor Smith      M  12th  Huang High School             94   \n",
       "\n",
       "   math_score  \n",
       "0          79  \n",
       "1          61  "
      ]
     },
     "execution_count": 6,
     "metadata": {},
     "output_type": "execute_result"
    }
   ],
   "source": [
    "student_data.head(2)"
   ]
  },
  {
   "cell_type": "code",
   "execution_count": 7,
   "metadata": {
    "collapsed": false
   },
   "outputs": [
    {
     "data": {
      "text/plain": [
       "(39170, 7)"
      ]
     },
     "execution_count": 7,
     "metadata": {},
     "output_type": "execute_result"
    }
   ],
   "source": [
    "student_data.shape"
   ]
  },
  {
   "cell_type": "code",
   "execution_count": 8,
   "metadata": {
    "collapsed": false
   },
   "outputs": [
    {
     "data": {
      "text/html": [
       "<div>\n",
       "<table border=\"1\" class=\"dataframe\">\n",
       "  <thead>\n",
       "    <tr style=\"text-align: right;\">\n",
       "      <th></th>\n",
       "      <th>Student ID</th>\n",
       "      <th>student_name</th>\n",
       "      <th>gender</th>\n",
       "      <th>grade</th>\n",
       "      <th>school_name</th>\n",
       "      <th>reading_score</th>\n",
       "      <th>math_score</th>\n",
       "      <th>School ID</th>\n",
       "      <th>type</th>\n",
       "      <th>size</th>\n",
       "      <th>budget</th>\n",
       "    </tr>\n",
       "  </thead>\n",
       "  <tbody>\n",
       "    <tr>\n",
       "      <th>0</th>\n",
       "      <td>0</td>\n",
       "      <td>Paul Bradley</td>\n",
       "      <td>M</td>\n",
       "      <td>9th</td>\n",
       "      <td>Huang High School</td>\n",
       "      <td>66</td>\n",
       "      <td>79</td>\n",
       "      <td>0</td>\n",
       "      <td>District</td>\n",
       "      <td>2917</td>\n",
       "      <td>1910635</td>\n",
       "    </tr>\n",
       "    <tr>\n",
       "      <th>1</th>\n",
       "      <td>1</td>\n",
       "      <td>Victor Smith</td>\n",
       "      <td>M</td>\n",
       "      <td>12th</td>\n",
       "      <td>Huang High School</td>\n",
       "      <td>94</td>\n",
       "      <td>61</td>\n",
       "      <td>0</td>\n",
       "      <td>District</td>\n",
       "      <td>2917</td>\n",
       "      <td>1910635</td>\n",
       "    </tr>\n",
       "    <tr>\n",
       "      <th>2</th>\n",
       "      <td>2</td>\n",
       "      <td>Kevin Rodriguez</td>\n",
       "      <td>M</td>\n",
       "      <td>12th</td>\n",
       "      <td>Huang High School</td>\n",
       "      <td>90</td>\n",
       "      <td>60</td>\n",
       "      <td>0</td>\n",
       "      <td>District</td>\n",
       "      <td>2917</td>\n",
       "      <td>1910635</td>\n",
       "    </tr>\n",
       "    <tr>\n",
       "      <th>3</th>\n",
       "      <td>3</td>\n",
       "      <td>Dr. Richard Scott</td>\n",
       "      <td>M</td>\n",
       "      <td>12th</td>\n",
       "      <td>Huang High School</td>\n",
       "      <td>67</td>\n",
       "      <td>58</td>\n",
       "      <td>0</td>\n",
       "      <td>District</td>\n",
       "      <td>2917</td>\n",
       "      <td>1910635</td>\n",
       "    </tr>\n",
       "    <tr>\n",
       "      <th>4</th>\n",
       "      <td>4</td>\n",
       "      <td>Bonnie Ray</td>\n",
       "      <td>F</td>\n",
       "      <td>9th</td>\n",
       "      <td>Huang High School</td>\n",
       "      <td>97</td>\n",
       "      <td>84</td>\n",
       "      <td>0</td>\n",
       "      <td>District</td>\n",
       "      <td>2917</td>\n",
       "      <td>1910635</td>\n",
       "    </tr>\n",
       "  </tbody>\n",
       "</table>\n",
       "</div>"
      ],
      "text/plain": [
       "   Student ID       student_name gender grade        school_name  \\\n",
       "0           0       Paul Bradley      M   9th  Huang High School   \n",
       "1           1       Victor Smith      M  12th  Huang High School   \n",
       "2           2    Kevin Rodriguez      M  12th  Huang High School   \n",
       "3           3  Dr. Richard Scott      M  12th  Huang High School   \n",
       "4           4         Bonnie Ray      F   9th  Huang High School   \n",
       "\n",
       "   reading_score  math_score  School ID      type  size   budget  \n",
       "0             66          79          0  District  2917  1910635  \n",
       "1             94          61          0  District  2917  1910635  \n",
       "2             90          60          0  District  2917  1910635  \n",
       "3             67          58          0  District  2917  1910635  \n",
       "4             97          84          0  District  2917  1910635  "
      ]
     },
     "execution_count": 8,
     "metadata": {},
     "output_type": "execute_result"
    }
   ],
   "source": [
    "school_data_complete.head()"
   ]
  },
  {
   "cell_type": "code",
   "execution_count": 9,
   "metadata": {
    "collapsed": false
   },
   "outputs": [
    {
     "data": {
      "text/plain": [
       "(39170, 11)"
      ]
     },
     "execution_count": 9,
     "metadata": {},
     "output_type": "execute_result"
    }
   ],
   "source": [
    "df=school_data_complete.copy()\n",
    "df.shape"
   ]
  },
  {
   "cell_type": "markdown",
   "metadata": {},
   "source": [
    "## District Summary\n",
    "\n",
    "* Calculate the total number of schools\n",
    "\n",
    "* Calculate the total number of students\n",
    "\n",
    "* Calculate the total budget\n",
    "\n",
    "* Calculate the average math score \n",
    "\n",
    "* Calculate the average reading score\n",
    "\n",
    "* Calculate the percentage of students with a passing math score (70 or greater)\n",
    "\n",
    "* Calculate the percentage of students with a passing reading score (70 or greater)\n",
    "\n",
    "* Calculate the percentage of students who passed math **and** reading (% Overall Passing)\n",
    "\n",
    "* Create a dataframe to hold the above results\n",
    "\n",
    "* Optional: give the displayed data cleaner formatting"
   ]
  },
  {
   "cell_type": "code",
   "execution_count": 113,
   "metadata": {
    "collapsed": false
   },
   "outputs": [
    {
     "name": "stdout",
     "output_type": "stream",
     "text": [
      "15\n",
      "39170\n",
      "24649428\n",
      "78.98537145774827\n",
      "81.87784018381414\n"
     ]
    }
   ],
   "source": [
    "total_num_schools = df['school_name'].nunique()\n",
    "print(total_num_schools)\n",
    "\n",
    "total_num_students = df['Student ID'].count()\n",
    "print(total_num_students)\n",
    "\n",
    "total_budget= school_data['budget'].sum()\n",
    "print(total_budget)\n",
    "\n",
    "avg_math_score = df['math_score'].mean()\n",
    "avg_math_score\n",
    "print(avg_math_score)\n",
    "\n",
    "avg_reading_score = df['reading_score'].mean()\n",
    "print(avg_reading_score)"
   ]
  },
  {
   "cell_type": "code",
   "execution_count": 115,
   "metadata": {
    "collapsed": false
   },
   "outputs": [
    {
     "name": "stdout",
     "output_type": "stream",
     "text": [
      "74.98085\n"
     ]
    }
   ],
   "source": [
    "math_score_70=df.loc[(df['math_score']>=70)]\n",
    "math_score_70_count=math_score_70['Student ID'].count()\n",
    "math_score_70_pct= round((math_score_70_count/total_num_students)*100,6)\n",
    "print(math_score_70_pct)"
   ]
  },
  {
   "cell_type": "code",
   "execution_count": 116,
   "metadata": {
    "collapsed": false
   },
   "outputs": [
    {
     "name": "stdout",
     "output_type": "stream",
     "text": [
      "85.805463\n"
     ]
    }
   ],
   "source": [
    "reading_score_70=df.loc[(df['reading_score']>=70)]    \n",
    "reading_score_70_count = reading_score_70['Student ID'].count()\n",
    "reading_score_70_pct = round((reading_score_70_count/total_num_students)*100,6)\n",
    "print(reading_score_70_pct)"
   ]
  },
  {
   "cell_type": "code",
   "execution_count": 118,
   "metadata": {
    "collapsed": false
   },
   "outputs": [
    {
     "name": "stdout",
     "output_type": "stream",
     "text": [
      "65.172326\n"
     ]
    }
   ],
   "source": [
    "# \n",
    "overall_pass=df[(df.math_score >=70) & (df.reading_score>=70)]\n",
    "overall_pass_count = overall_pass['Student ID'].count()\n",
    "overall_pass_pct = round((overall_pass_count/total_num_students)*100,6)\n",
    "print(overall_pass_pct)"
   ]
  },
  {
   "cell_type": "code",
   "execution_count": 123,
   "metadata": {
    "collapsed": false
   },
   "outputs": [
    {
     "data": {
      "text/html": [
       "<div>\n",
       "<table border=\"1\" class=\"dataframe\">\n",
       "  <thead>\n",
       "    <tr style=\"text-align: right;\">\n",
       "      <th></th>\n",
       "      <th>% Overall_Passing</th>\n",
       "      <th>% Passing Math</th>\n",
       "      <th>% Passing Reading</th>\n",
       "      <th>Average Math score</th>\n",
       "      <th>Average Reading Score</th>\n",
       "      <th>Total Budget</th>\n",
       "      <th>Total Schools</th>\n",
       "      <th>Total Students</th>\n",
       "    </tr>\n",
       "  </thead>\n",
       "  <tbody>\n",
       "    <tr>\n",
       "      <th>0</th>\n",
       "      <td>65.172326</td>\n",
       "      <td>74.98085</td>\n",
       "      <td>85.805463</td>\n",
       "      <td>78.985371</td>\n",
       "      <td>81.87784</td>\n",
       "      <td>$24649428.00</td>\n",
       "      <td>15</td>\n",
       "      <td>39,170</td>\n",
       "    </tr>\n",
       "  </tbody>\n",
       "</table>\n",
       "</div>"
      ],
      "text/plain": [
       "   % Overall_Passing  % Passing Math  % Passing Reading  Average Math score  \\\n",
       "0          65.172326        74.98085          85.805463           78.985371   \n",
       "\n",
       "   Average Reading Score  Total Budget  Total Schools Total Students  \n",
       "0               81.87784  $24649428.00             15         39,170  "
      ]
     },
     "execution_count": 123,
     "metadata": {},
     "output_type": "execute_result"
    }
   ],
   "source": [
    "# Create \n",
    "district_summary_df = pd.DataFrame({\"Total Schools\": total_num_schools,\n",
    "                                  \"Total Students\": total_num_students,\n",
    "                                  \"Total Budget\": total_budget,\n",
    "                                  \"Average Math score\":avg_math_score,\n",
    "                                  \"Average Reading Score\":avg_reading_score,\n",
    "                                  \"% Passing Math\": math_score_70_pct,\n",
    "                                  \"% Passing Reading\": reading_score_70_pct,\n",
    "                                  \"% Overall_Passing\": overall_pass_pct}, index=[0])\n",
    "\n",
    "district_summary_df[\"Total Students\"]=district_summary_df[\"Total Students\"].map(\"{:,}\".format)\n",
    "district_summary_df[\"Total Budget\"]=district_summary_df[\"Total Budget\"].map(\"${:.2f}\".format)\n",
    "district_summary_df"
   ]
  },
  {
   "cell_type": "code",
   "execution_count": 124,
   "metadata": {
    "collapsed": false
   },
   "outputs": [
    {
     "data": {
      "text/html": [
       "<div>\n",
       "<table border=\"1\" class=\"dataframe\">\n",
       "  <thead>\n",
       "    <tr style=\"text-align: right;\">\n",
       "      <th></th>\n",
       "      <th>Total Schools</th>\n",
       "      <th>Total Students</th>\n",
       "      <th>Total Budget</th>\n",
       "      <th>Average Math score</th>\n",
       "      <th>Average Reading Score</th>\n",
       "      <th>% Passing Math</th>\n",
       "      <th>% Passing Reading</th>\n",
       "      <th>% Overall_Passing</th>\n",
       "    </tr>\n",
       "  </thead>\n",
       "  <tbody>\n",
       "    <tr>\n",
       "      <th>0</th>\n",
       "      <td>15</td>\n",
       "      <td>39,170</td>\n",
       "      <td>$24649428.00</td>\n",
       "      <td>78.985371</td>\n",
       "      <td>81.87784</td>\n",
       "      <td>74.98085</td>\n",
       "      <td>85.805463</td>\n",
       "      <td>65.172326</td>\n",
       "    </tr>\n",
       "  </tbody>\n",
       "</table>\n",
       "</div>"
      ],
      "text/plain": [
       "   Total Schools Total Students  Total Budget  Average Math score  \\\n",
       "0             15         39,170  $24649428.00           78.985371   \n",
       "\n",
       "   Average Reading Score  % Passing Math  % Passing Reading  % Overall_Passing  \n",
       "0               81.87784        74.98085          85.805463          65.172326  "
      ]
     },
     "execution_count": 124,
     "metadata": {},
     "output_type": "execute_result"
    }
   ],
   "source": [
    "district_summary_df_ord=district_summary_df[[\"Total Schools\",\"Total Students\",\"Total Budget\",\"Average Math score\",\\\n",
    "                                             \"Average Reading Score\", \"% Passing Math\",\"% Passing Reading\",\"% Overall_Passing\"]]\n",
    "district_summary_df_ord"
   ]
  },
  {
   "cell_type": "markdown",
   "metadata": {},
   "source": [
    "## School Summary"
   ]
  },
  {
   "cell_type": "markdown",
   "metadata": {},
   "source": [
    "* Create an overview table that summarizes key metrics about each school, including:\n",
    "  * School Name\n",
    "  * School Type\n",
    "  * Total Students\n",
    "  * Total School Budget\n",
    "  * Per Student Budget\n",
    "  * Average Math Score\n",
    "  * Average Reading Score\n",
    "  * % Passing Math\n",
    "  * % Passing Reading\n",
    "  * % Overall Passing (The percentage of students that passed math **and** reading.)\n",
    "  \n",
    "* Create a dataframe to hold the above results"
   ]
  },
  {
   "cell_type": "code",
   "execution_count": 15,
   "metadata": {
    "collapsed": false
   },
   "outputs": [],
   "source": [
    "# Create a GroupBy object based upon School Name and School Type\n",
    "school_type=school_data_complete.groupby(['school_name','type','budget'])\n",
    "#school_type.head(2)"
   ]
  },
  {
   "cell_type": "code",
   "execution_count": 16,
   "metadata": {
    "collapsed": false
   },
   "outputs": [
    {
     "data": {
      "text/html": [
       "<div>\n",
       "<table border=\"1\" class=\"dataframe\">\n",
       "  <thead>\n",
       "    <tr style=\"text-align: right;\">\n",
       "      <th></th>\n",
       "      <th>school_name</th>\n",
       "      <th>type</th>\n",
       "      <th>budget</th>\n",
       "      <th>Total Students</th>\n",
       "    </tr>\n",
       "  </thead>\n",
       "  <tbody>\n",
       "    <tr>\n",
       "      <th>0</th>\n",
       "      <td>Bailey High School</td>\n",
       "      <td>District</td>\n",
       "      <td>3124928</td>\n",
       "      <td>4976</td>\n",
       "    </tr>\n",
       "    <tr>\n",
       "      <th>1</th>\n",
       "      <td>Cabrera High School</td>\n",
       "      <td>Charter</td>\n",
       "      <td>1081356</td>\n",
       "      <td>1858</td>\n",
       "    </tr>\n",
       "    <tr>\n",
       "      <th>2</th>\n",
       "      <td>Figueroa High School</td>\n",
       "      <td>District</td>\n",
       "      <td>1884411</td>\n",
       "      <td>2949</td>\n",
       "    </tr>\n",
       "    <tr>\n",
       "      <th>3</th>\n",
       "      <td>Ford High School</td>\n",
       "      <td>District</td>\n",
       "      <td>1763916</td>\n",
       "      <td>2739</td>\n",
       "    </tr>\n",
       "    <tr>\n",
       "      <th>4</th>\n",
       "      <td>Griffin High School</td>\n",
       "      <td>Charter</td>\n",
       "      <td>917500</td>\n",
       "      <td>1468</td>\n",
       "    </tr>\n",
       "  </tbody>\n",
       "</table>\n",
       "</div>"
      ],
      "text/plain": [
       "            school_name      type   budget  Total Students\n",
       "0    Bailey High School  District  3124928            4976\n",
       "1   Cabrera High School   Charter  1081356            1858\n",
       "2  Figueroa High School  District  1884411            2949\n",
       "3      Ford High School  District  1763916            2739\n",
       "4   Griffin High School   Charter   917500            1468"
      ]
     },
     "execution_count": 16,
     "metadata": {},
     "output_type": "execute_result"
    }
   ],
   "source": [
    "# Total Students\n",
    "\n",
    "school_type_df = pd.DataFrame(school_type['Student ID'].count())\n",
    "school_type_df = school_type_df.rename(columns={\"Student ID\": \"Total Students\"})\n",
    "\n",
    "school_type_df=school_type_df.reset_index()\n",
    "school_type_df.head(5)\n"
   ]
  },
  {
   "cell_type": "code",
   "execution_count": 17,
   "metadata": {
    "collapsed": false
   },
   "outputs": [
    {
     "data": {
      "text/html": [
       "<div>\n",
       "<table border=\"1\" class=\"dataframe\">\n",
       "  <thead>\n",
       "    <tr style=\"text-align: right;\">\n",
       "      <th></th>\n",
       "      <th>school_name</th>\n",
       "      <th>type</th>\n",
       "      <th>Total Budget</th>\n",
       "      <th>Total Students</th>\n",
       "    </tr>\n",
       "  </thead>\n",
       "  <tbody>\n",
       "    <tr>\n",
       "      <th>0</th>\n",
       "      <td>Bailey High School</td>\n",
       "      <td>District</td>\n",
       "      <td>3124928</td>\n",
       "      <td>4976</td>\n",
       "    </tr>\n",
       "    <tr>\n",
       "      <th>1</th>\n",
       "      <td>Cabrera High School</td>\n",
       "      <td>Charter</td>\n",
       "      <td>1081356</td>\n",
       "      <td>1858</td>\n",
       "    </tr>\n",
       "    <tr>\n",
       "      <th>2</th>\n",
       "      <td>Figueroa High School</td>\n",
       "      <td>District</td>\n",
       "      <td>1884411</td>\n",
       "      <td>2949</td>\n",
       "    </tr>\n",
       "    <tr>\n",
       "      <th>3</th>\n",
       "      <td>Ford High School</td>\n",
       "      <td>District</td>\n",
       "      <td>1763916</td>\n",
       "      <td>2739</td>\n",
       "    </tr>\n",
       "    <tr>\n",
       "      <th>4</th>\n",
       "      <td>Griffin High School</td>\n",
       "      <td>Charter</td>\n",
       "      <td>917500</td>\n",
       "      <td>1468</td>\n",
       "    </tr>\n",
       "  </tbody>\n",
       "</table>\n",
       "</div>"
      ],
      "text/plain": [
       "            school_name      type  Total Budget  Total Students\n",
       "0    Bailey High School  District       3124928            4976\n",
       "1   Cabrera High School   Charter       1081356            1858\n",
       "2  Figueroa High School  District       1884411            2949\n",
       "3      Ford High School  District       1763916            2739\n",
       "4   Griffin High School   Charter        917500            1468"
      ]
     },
     "execution_count": 17,
     "metadata": {},
     "output_type": "execute_result"
    }
   ],
   "source": [
    "# Total School Budget\n",
    "\n",
    "school_type_df = school_type_df.rename(columns={\"budget\": \"Total Budget\"})\n",
    "school_type_df.head()\n"
   ]
  },
  {
   "cell_type": "raw",
   "metadata": {},
   "source": [
    "# Merge Total Students and Total School Budget\n",
    "school_district=pd.merge(school_type_df,school_type_budget_df, on=[\"school_name\",\"type\"])\n",
    "school_district.head()"
   ]
  },
  {
   "cell_type": "raw",
   "metadata": {},
   "source": [
    "school_district.shape"
   ]
  },
  {
   "cell_type": "code",
   "execution_count": 18,
   "metadata": {
    "collapsed": false
   },
   "outputs": [
    {
     "data": {
      "text/html": [
       "<div>\n",
       "<table border=\"1\" class=\"dataframe\">\n",
       "  <thead>\n",
       "    <tr style=\"text-align: right;\">\n",
       "      <th></th>\n",
       "      <th>school_name</th>\n",
       "      <th>type</th>\n",
       "      <th>Total Budget</th>\n",
       "      <th>Total Students</th>\n",
       "      <th>Per Student Budget</th>\n",
       "    </tr>\n",
       "  </thead>\n",
       "  <tbody>\n",
       "    <tr>\n",
       "      <th>0</th>\n",
       "      <td>Bailey High School</td>\n",
       "      <td>District</td>\n",
       "      <td>$3,124,928.00</td>\n",
       "      <td>4976</td>\n",
       "      <td>$628.00</td>\n",
       "    </tr>\n",
       "    <tr>\n",
       "      <th>1</th>\n",
       "      <td>Cabrera High School</td>\n",
       "      <td>Charter</td>\n",
       "      <td>$1,081,356.00</td>\n",
       "      <td>1858</td>\n",
       "      <td>$582.00</td>\n",
       "    </tr>\n",
       "    <tr>\n",
       "      <th>2</th>\n",
       "      <td>Figueroa High School</td>\n",
       "      <td>District</td>\n",
       "      <td>$1,884,411.00</td>\n",
       "      <td>2949</td>\n",
       "      <td>$639.00</td>\n",
       "    </tr>\n",
       "  </tbody>\n",
       "</table>\n",
       "</div>"
      ],
      "text/plain": [
       "            school_name      type   Total Budget  Total Students  \\\n",
       "0    Bailey High School  District  $3,124,928.00            4976   \n",
       "1   Cabrera High School   Charter  $1,081,356.00            1858   \n",
       "2  Figueroa High School  District  $1,884,411.00            2949   \n",
       "\n",
       "  Per Student Budget  \n",
       "0            $628.00  \n",
       "1            $582.00  \n",
       "2            $639.00  "
      ]
     },
     "execution_count": 18,
     "metadata": {},
     "output_type": "execute_result"
    }
   ],
   "source": [
    "# Per Student Budget\n",
    "school_type_df['Per Student Budget']=school_type_df['Total Budget']/school_type_df['Total Students']\n",
    "school_type_df['Per Student Budget']=school_type_df['Per Student Budget'].astype(float).map(\"${:,.2f}\".format)\n",
    "school_type_df['Total Budget']=school_type_df['Total Budget'].astype(float).map(\"${:,.2f}\".format)\n",
    "\n",
    "school_type_df.head(3)"
   ]
  },
  {
   "cell_type": "code",
   "execution_count": 19,
   "metadata": {
    "collapsed": false
   },
   "outputs": [
    {
     "data": {
      "text/html": [
       "<div>\n",
       "<table border=\"1\" class=\"dataframe\">\n",
       "  <thead>\n",
       "    <tr style=\"text-align: right;\">\n",
       "      <th></th>\n",
       "      <th>school_name</th>\n",
       "      <th>type</th>\n",
       "      <th>budget</th>\n",
       "      <th>Average Math Score</th>\n",
       "    </tr>\n",
       "  </thead>\n",
       "  <tbody>\n",
       "    <tr>\n",
       "      <th>0</th>\n",
       "      <td>Bailey High School</td>\n",
       "      <td>District</td>\n",
       "      <td>3124928</td>\n",
       "      <td>77.048432</td>\n",
       "    </tr>\n",
       "    <tr>\n",
       "      <th>1</th>\n",
       "      <td>Cabrera High School</td>\n",
       "      <td>Charter</td>\n",
       "      <td>1081356</td>\n",
       "      <td>83.061895</td>\n",
       "    </tr>\n",
       "    <tr>\n",
       "      <th>2</th>\n",
       "      <td>Figueroa High School</td>\n",
       "      <td>District</td>\n",
       "      <td>1884411</td>\n",
       "      <td>76.711767</td>\n",
       "    </tr>\n",
       "  </tbody>\n",
       "</table>\n",
       "</div>"
      ],
      "text/plain": [
       "            school_name      type   budget  Average Math Score\n",
       "0    Bailey High School  District  3124928           77.048432\n",
       "1   Cabrera High School   Charter  1081356           83.061895\n",
       "2  Figueroa High School  District  1884411           76.711767"
      ]
     },
     "execution_count": 19,
     "metadata": {},
     "output_type": "execute_result"
    }
   ],
   "source": [
    "#Average Math Score\n",
    "school_type_math_df = pd.DataFrame(school_type['math_score'].mean())\n",
    "school_type_math_df = school_type_math_df.rename(columns={\"math_score\": \"Average Math Score\"})\n",
    "\n",
    "school_type_math_df=school_type_math_df.reset_index()\n",
    "school_type_math_df.head(3)"
   ]
  },
  {
   "cell_type": "code",
   "execution_count": 20,
   "metadata": {
    "collapsed": false
   },
   "outputs": [
    {
     "data": {
      "text/html": [
       "<div>\n",
       "<table border=\"1\" class=\"dataframe\">\n",
       "  <thead>\n",
       "    <tr style=\"text-align: right;\">\n",
       "      <th></th>\n",
       "      <th>school_name</th>\n",
       "      <th>type</th>\n",
       "      <th>budget</th>\n",
       "      <th>Average Reading Score</th>\n",
       "    </tr>\n",
       "  </thead>\n",
       "  <tbody>\n",
       "    <tr>\n",
       "      <th>0</th>\n",
       "      <td>Bailey High School</td>\n",
       "      <td>District</td>\n",
       "      <td>3124928</td>\n",
       "      <td>81.033963</td>\n",
       "    </tr>\n",
       "    <tr>\n",
       "      <th>1</th>\n",
       "      <td>Cabrera High School</td>\n",
       "      <td>Charter</td>\n",
       "      <td>1081356</td>\n",
       "      <td>83.975780</td>\n",
       "    </tr>\n",
       "    <tr>\n",
       "      <th>2</th>\n",
       "      <td>Figueroa High School</td>\n",
       "      <td>District</td>\n",
       "      <td>1884411</td>\n",
       "      <td>81.158020</td>\n",
       "    </tr>\n",
       "  </tbody>\n",
       "</table>\n",
       "</div>"
      ],
      "text/plain": [
       "            school_name      type   budget  Average Reading Score\n",
       "0    Bailey High School  District  3124928              81.033963\n",
       "1   Cabrera High School   Charter  1081356              83.975780\n",
       "2  Figueroa High School  District  1884411              81.158020"
      ]
     },
     "execution_count": 20,
     "metadata": {},
     "output_type": "execute_result"
    }
   ],
   "source": [
    "#Average Reading Score\n",
    "school_type_reading_df = pd.DataFrame(school_type['reading_score'].mean())\n",
    "school_type_reading_df = school_type_reading_df.rename(columns={\"reading_score\": \"Average Reading Score\"})\n",
    "\n",
    "school_type_reading_df=school_type_reading_df.reset_index()\n",
    "school_type_reading_df.head(3)"
   ]
  },
  {
   "cell_type": "code",
   "execution_count": 21,
   "metadata": {
    "collapsed": false
   },
   "outputs": [
    {
     "data": {
      "text/html": [
       "<div>\n",
       "<table border=\"1\" class=\"dataframe\">\n",
       "  <thead>\n",
       "    <tr style=\"text-align: right;\">\n",
       "      <th></th>\n",
       "      <th>school_name</th>\n",
       "      <th>type</th>\n",
       "      <th>Total Budget</th>\n",
       "      <th>Total Students</th>\n",
       "      <th>Per Student Budget</th>\n",
       "      <th>Average Math Score</th>\n",
       "      <th>Average Reading Score</th>\n",
       "    </tr>\n",
       "  </thead>\n",
       "  <tbody>\n",
       "    <tr>\n",
       "      <th>0</th>\n",
       "      <td>Bailey High School</td>\n",
       "      <td>District</td>\n",
       "      <td>$3,124,928.00</td>\n",
       "      <td>4976</td>\n",
       "      <td>$628.00</td>\n",
       "      <td>77.048432</td>\n",
       "      <td>81.033963</td>\n",
       "    </tr>\n",
       "    <tr>\n",
       "      <th>1</th>\n",
       "      <td>Cabrera High School</td>\n",
       "      <td>Charter</td>\n",
       "      <td>$1,081,356.00</td>\n",
       "      <td>1858</td>\n",
       "      <td>$582.00</td>\n",
       "      <td>83.061895</td>\n",
       "      <td>83.975780</td>\n",
       "    </tr>\n",
       "    <tr>\n",
       "      <th>2</th>\n",
       "      <td>Figueroa High School</td>\n",
       "      <td>District</td>\n",
       "      <td>$1,884,411.00</td>\n",
       "      <td>2949</td>\n",
       "      <td>$639.00</td>\n",
       "      <td>76.711767</td>\n",
       "      <td>81.158020</td>\n",
       "    </tr>\n",
       "  </tbody>\n",
       "</table>\n",
       "</div>"
      ],
      "text/plain": [
       "            school_name      type   Total Budget  Total Students  \\\n",
       "0    Bailey High School  District  $3,124,928.00            4976   \n",
       "1   Cabrera High School   Charter  $1,081,356.00            1858   \n",
       "2  Figueroa High School  District  $1,884,411.00            2949   \n",
       "\n",
       "  Per Student Budget  Average Math Score  Average Reading Score  \n",
       "0            $628.00           77.048432              81.033963  \n",
       "1            $582.00           83.061895              83.975780  \n",
       "2            $639.00           76.711767              81.158020  "
      ]
     },
     "execution_count": 21,
     "metadata": {},
     "output_type": "execute_result"
    }
   ],
   "source": [
    "school_type_df['Average Math Score']=school_type_math_df['Average Math Score']\n",
    "school_type_df['Average Reading Score']=school_type_reading_df['Average Reading Score']\n",
    "school_type_df.head(3)"
   ]
  },
  {
   "cell_type": "markdown",
   "metadata": {},
   "source": [
    "# % Passing Math\n"
   ]
  },
  {
   "cell_type": "code",
   "execution_count": 22,
   "metadata": {
    "collapsed": false
   },
   "outputs": [
    {
     "data": {
      "text/plain": [
       "(29370, 11)"
      ]
     },
     "execution_count": 22,
     "metadata": {},
     "output_type": "execute_result"
    }
   ],
   "source": [
    "#math_score_school_70\n",
    "math_score_school_70=df.loc[(df['math_score']>=70)]\n",
    "math_score_school_70.shape\n"
   ]
  },
  {
   "cell_type": "code",
   "execution_count": 23,
   "metadata": {
    "collapsed": false
   },
   "outputs": [],
   "source": [
    "# Create a GroupBy object based upon School Name and School Type on math_score_school_70\n",
    "school_type_math_pass=math_score_school_70.groupby(['school_name','type'])\n"
   ]
  },
  {
   "cell_type": "code",
   "execution_count": 24,
   "metadata": {
    "collapsed": false
   },
   "outputs": [
    {
     "data": {
      "text/html": [
       "<div>\n",
       "<table border=\"1\" class=\"dataframe\">\n",
       "  <thead>\n",
       "    <tr style=\"text-align: right;\">\n",
       "      <th></th>\n",
       "      <th>school_name</th>\n",
       "      <th>type</th>\n",
       "      <th>Students Passing Math</th>\n",
       "    </tr>\n",
       "  </thead>\n",
       "  <tbody>\n",
       "    <tr>\n",
       "      <th>0</th>\n",
       "      <td>Bailey High School</td>\n",
       "      <td>District</td>\n",
       "      <td>3318</td>\n",
       "    </tr>\n",
       "    <tr>\n",
       "      <th>1</th>\n",
       "      <td>Cabrera High School</td>\n",
       "      <td>Charter</td>\n",
       "      <td>1749</td>\n",
       "    </tr>\n",
       "    <tr>\n",
       "      <th>2</th>\n",
       "      <td>Figueroa High School</td>\n",
       "      <td>District</td>\n",
       "      <td>1946</td>\n",
       "    </tr>\n",
       "  </tbody>\n",
       "</table>\n",
       "</div>"
      ],
      "text/plain": [
       "            school_name      type  Students Passing Math\n",
       "0    Bailey High School  District                   3318\n",
       "1   Cabrera High School   Charter                   1749\n",
       "2  Figueroa High School  District                   1946"
      ]
     },
     "execution_count": 24,
     "metadata": {},
     "output_type": "execute_result"
    }
   ],
   "source": [
    "school_type_math_pass_df = pd.DataFrame(school_type_math_pass['Student ID'].count())\n",
    "school_type_math_pass_df = school_type_math_pass_df.rename(columns={\"Student ID\": \"Students Passing Math\"})\n",
    "\n",
    "school_type_math_pass_df=school_type_math_pass_df.reset_index()\n",
    "school_type_math_pass_df.head(3)"
   ]
  },
  {
   "cell_type": "code",
   "execution_count": 25,
   "metadata": {
    "collapsed": false
   },
   "outputs": [
    {
     "data": {
      "text/html": [
       "<div>\n",
       "<table border=\"1\" class=\"dataframe\">\n",
       "  <thead>\n",
       "    <tr style=\"text-align: right;\">\n",
       "      <th></th>\n",
       "      <th>school_name</th>\n",
       "      <th>type</th>\n",
       "      <th>Total Budget</th>\n",
       "      <th>Total Students</th>\n",
       "      <th>Per Student Budget</th>\n",
       "      <th>Average Math Score</th>\n",
       "      <th>Average Reading Score</th>\n",
       "      <th>Students Passing Math</th>\n",
       "      <th>% Passing Math</th>\n",
       "    </tr>\n",
       "  </thead>\n",
       "  <tbody>\n",
       "    <tr>\n",
       "      <th>0</th>\n",
       "      <td>Bailey High School</td>\n",
       "      <td>District</td>\n",
       "      <td>$3,124,928.00</td>\n",
       "      <td>4976</td>\n",
       "      <td>$628.00</td>\n",
       "      <td>77.048432</td>\n",
       "      <td>81.033963</td>\n",
       "      <td>3318</td>\n",
       "      <td>66.680064</td>\n",
       "    </tr>\n",
       "    <tr>\n",
       "      <th>1</th>\n",
       "      <td>Cabrera High School</td>\n",
       "      <td>Charter</td>\n",
       "      <td>$1,081,356.00</td>\n",
       "      <td>1858</td>\n",
       "      <td>$582.00</td>\n",
       "      <td>83.061895</td>\n",
       "      <td>83.975780</td>\n",
       "      <td>1749</td>\n",
       "      <td>94.133477</td>\n",
       "    </tr>\n",
       "    <tr>\n",
       "      <th>2</th>\n",
       "      <td>Figueroa High School</td>\n",
       "      <td>District</td>\n",
       "      <td>$1,884,411.00</td>\n",
       "      <td>2949</td>\n",
       "      <td>$639.00</td>\n",
       "      <td>76.711767</td>\n",
       "      <td>81.158020</td>\n",
       "      <td>1946</td>\n",
       "      <td>65.988471</td>\n",
       "    </tr>\n",
       "  </tbody>\n",
       "</table>\n",
       "</div>"
      ],
      "text/plain": [
       "            school_name      type   Total Budget  Total Students  \\\n",
       "0    Bailey High School  District  $3,124,928.00            4976   \n",
       "1   Cabrera High School   Charter  $1,081,356.00            1858   \n",
       "2  Figueroa High School  District  $1,884,411.00            2949   \n",
       "\n",
       "  Per Student Budget  Average Math Score  Average Reading Score  \\\n",
       "0            $628.00           77.048432              81.033963   \n",
       "1            $582.00           83.061895              83.975780   \n",
       "2            $639.00           76.711767              81.158020   \n",
       "\n",
       "   Students Passing Math  % Passing Math  \n",
       "0                   3318       66.680064  \n",
       "1                   1749       94.133477  \n",
       "2                   1946       65.988471  "
      ]
     },
     "execution_count": 25,
     "metadata": {},
     "output_type": "execute_result"
    }
   ],
   "source": [
    "#Adding column to school_district df\n",
    "school_type_df['Students Passing Math']=school_type_math_pass_df['Students Passing Math']\n",
    "school_type_df['% Passing Math']=(school_type_df['Students Passing Math']/school_type_df['Total Students'])*100\n",
    "school_type_df.head(3)"
   ]
  },
  {
   "cell_type": "markdown",
   "metadata": {},
   "source": [
    "# % Passing Reading\n"
   ]
  },
  {
   "cell_type": "code",
   "execution_count": 26,
   "metadata": {
    "collapsed": false
   },
   "outputs": [
    {
     "data": {
      "text/plain": [
       "(33610, 11)"
      ]
     },
     "execution_count": 26,
     "metadata": {},
     "output_type": "execute_result"
    }
   ],
   "source": [
    "#reading_score_school_70\n",
    "reading_score_school_70=df.loc[(df['reading_score']>=70)]\n",
    "reading_score_school_70.shape"
   ]
  },
  {
   "cell_type": "code",
   "execution_count": 27,
   "metadata": {
    "collapsed": true
   },
   "outputs": [],
   "source": [
    "# Create a GroupBy object based upon School Name and School Type on math_score_school_70\n",
    "school_type_reading_pass=reading_score_school_70.groupby(['school_name','type'])\n"
   ]
  },
  {
   "cell_type": "code",
   "execution_count": 28,
   "metadata": {
    "collapsed": false
   },
   "outputs": [
    {
     "data": {
      "text/html": [
       "<div>\n",
       "<table border=\"1\" class=\"dataframe\">\n",
       "  <thead>\n",
       "    <tr style=\"text-align: right;\">\n",
       "      <th></th>\n",
       "      <th>school_name</th>\n",
       "      <th>type</th>\n",
       "      <th>Students Passing Reading</th>\n",
       "    </tr>\n",
       "  </thead>\n",
       "  <tbody>\n",
       "    <tr>\n",
       "      <th>0</th>\n",
       "      <td>Bailey High School</td>\n",
       "      <td>District</td>\n",
       "      <td>4077</td>\n",
       "    </tr>\n",
       "    <tr>\n",
       "      <th>1</th>\n",
       "      <td>Cabrera High School</td>\n",
       "      <td>Charter</td>\n",
       "      <td>1803</td>\n",
       "    </tr>\n",
       "    <tr>\n",
       "      <th>2</th>\n",
       "      <td>Figueroa High School</td>\n",
       "      <td>District</td>\n",
       "      <td>2381</td>\n",
       "    </tr>\n",
       "  </tbody>\n",
       "</table>\n",
       "</div>"
      ],
      "text/plain": [
       "            school_name      type  Students Passing Reading\n",
       "0    Bailey High School  District                      4077\n",
       "1   Cabrera High School   Charter                      1803\n",
       "2  Figueroa High School  District                      2381"
      ]
     },
     "execution_count": 28,
     "metadata": {},
     "output_type": "execute_result"
    }
   ],
   "source": [
    "school_type_reading_pass_df = pd.DataFrame(school_type_reading_pass['Student ID'].count())\n",
    "school_type_reading_pass_df = school_type_reading_pass_df.rename(columns={\"Student ID\": \"Students Passing Reading\"})\n",
    "\n",
    "school_type_reading_pass_df=school_type_reading_pass_df.reset_index()\n",
    "school_type_reading_pass_df.head(3)"
   ]
  },
  {
   "cell_type": "code",
   "execution_count": 29,
   "metadata": {
    "collapsed": false
   },
   "outputs": [
    {
     "data": {
      "text/html": [
       "<div>\n",
       "<table border=\"1\" class=\"dataframe\">\n",
       "  <thead>\n",
       "    <tr style=\"text-align: right;\">\n",
       "      <th></th>\n",
       "      <th>school_name</th>\n",
       "      <th>type</th>\n",
       "      <th>Total Budget</th>\n",
       "      <th>Total Students</th>\n",
       "      <th>Per Student Budget</th>\n",
       "      <th>Average Math Score</th>\n",
       "      <th>Average Reading Score</th>\n",
       "      <th>Students Passing Math</th>\n",
       "      <th>% Passing Math</th>\n",
       "      <th>Students Passing Reading</th>\n",
       "      <th>% Passing Reading</th>\n",
       "    </tr>\n",
       "  </thead>\n",
       "  <tbody>\n",
       "    <tr>\n",
       "      <th>0</th>\n",
       "      <td>Bailey High School</td>\n",
       "      <td>District</td>\n",
       "      <td>$3,124,928.00</td>\n",
       "      <td>4976.0</td>\n",
       "      <td>$628.00</td>\n",
       "      <td>77.048432</td>\n",
       "      <td>81.033963</td>\n",
       "      <td>3318</td>\n",
       "      <td>66.680064</td>\n",
       "      <td>4077</td>\n",
       "      <td>81.933280</td>\n",
       "    </tr>\n",
       "    <tr>\n",
       "      <th>1</th>\n",
       "      <td>Cabrera High School</td>\n",
       "      <td>Charter</td>\n",
       "      <td>$1,081,356.00</td>\n",
       "      <td>1858.0</td>\n",
       "      <td>$582.00</td>\n",
       "      <td>83.061895</td>\n",
       "      <td>83.975780</td>\n",
       "      <td>1749</td>\n",
       "      <td>94.133477</td>\n",
       "      <td>1803</td>\n",
       "      <td>97.039828</td>\n",
       "    </tr>\n",
       "    <tr>\n",
       "      <th>2</th>\n",
       "      <td>Figueroa High School</td>\n",
       "      <td>District</td>\n",
       "      <td>$1,884,411.00</td>\n",
       "      <td>2949.0</td>\n",
       "      <td>$639.00</td>\n",
       "      <td>76.711767</td>\n",
       "      <td>81.158020</td>\n",
       "      <td>1946</td>\n",
       "      <td>65.988471</td>\n",
       "      <td>2381</td>\n",
       "      <td>80.739234</td>\n",
       "    </tr>\n",
       "  </tbody>\n",
       "</table>\n",
       "</div>"
      ],
      "text/plain": [
       "            school_name      type   Total Budget  Total Students  \\\n",
       "0    Bailey High School  District  $3,124,928.00          4976.0   \n",
       "1   Cabrera High School   Charter  $1,081,356.00          1858.0   \n",
       "2  Figueroa High School  District  $1,884,411.00          2949.0   \n",
       "\n",
       "  Per Student Budget  Average Math Score  Average Reading Score  \\\n",
       "0            $628.00           77.048432              81.033963   \n",
       "1            $582.00           83.061895              83.975780   \n",
       "2            $639.00           76.711767              81.158020   \n",
       "\n",
       "   Students Passing Math  % Passing Math  Students Passing Reading  \\\n",
       "0                   3318       66.680064                      4077   \n",
       "1                   1749       94.133477                      1803   \n",
       "2                   1946       65.988471                      2381   \n",
       "\n",
       "   % Passing Reading  \n",
       "0          81.933280  \n",
       "1          97.039828  \n",
       "2          80.739234  "
      ]
     },
     "execution_count": 29,
     "metadata": {},
     "output_type": "execute_result"
    }
   ],
   "source": [
    "#Adding column to school_district df\n",
    "school_type_df['Students Passing Reading']=school_type_reading_pass_df['Students Passing Reading']\n",
    "school_type_df['Total Students']=school_type_df['Total Students'].astype(float)\n",
    "school_type_df['% Passing Reading']=(school_type_df['Students Passing Reading']/school_type_df['Total Students'])*100\n",
    "school_type_df.head(3)"
   ]
  },
  {
   "cell_type": "markdown",
   "metadata": {},
   "source": [
    "# % Overall Passing (The percentage of students that passed math and reading.)"
   ]
  },
  {
   "cell_type": "code",
   "execution_count": 30,
   "metadata": {
    "collapsed": false
   },
   "outputs": [
    {
     "data": {
      "text/plain": [
       "(25528, 11)"
      ]
     },
     "execution_count": 30,
     "metadata": {},
     "output_type": "execute_result"
    }
   ],
   "source": [
    "# Overall Passing \n",
    "overall_score_school_70=df.loc[(df['math_score']>=70) & (df['reading_score']>=70)]\n",
    "overall_score_school_70.shape"
   ]
  },
  {
   "cell_type": "code",
   "execution_count": 31,
   "metadata": {
    "collapsed": true
   },
   "outputs": [],
   "source": [
    "# Create a GroupBy object based upon School Name and School Type on overall_score_school_70\n",
    "school_type_overall=overall_score_school_70.groupby(['school_name','type'])"
   ]
  },
  {
   "cell_type": "code",
   "execution_count": 32,
   "metadata": {
    "collapsed": false
   },
   "outputs": [
    {
     "data": {
      "text/html": [
       "<div>\n",
       "<table border=\"1\" class=\"dataframe\">\n",
       "  <thead>\n",
       "    <tr style=\"text-align: right;\">\n",
       "      <th></th>\n",
       "      <th>school_name</th>\n",
       "      <th>type</th>\n",
       "      <th>Students Passing Overall</th>\n",
       "    </tr>\n",
       "  </thead>\n",
       "  <tbody>\n",
       "    <tr>\n",
       "      <th>0</th>\n",
       "      <td>Bailey High School</td>\n",
       "      <td>District</td>\n",
       "      <td>2719</td>\n",
       "    </tr>\n",
       "    <tr>\n",
       "      <th>1</th>\n",
       "      <td>Cabrera High School</td>\n",
       "      <td>Charter</td>\n",
       "      <td>1697</td>\n",
       "    </tr>\n",
       "    <tr>\n",
       "      <th>2</th>\n",
       "      <td>Figueroa High School</td>\n",
       "      <td>District</td>\n",
       "      <td>1569</td>\n",
       "    </tr>\n",
       "  </tbody>\n",
       "</table>\n",
       "</div>"
      ],
      "text/plain": [
       "            school_name      type  Students Passing Overall\n",
       "0    Bailey High School  District                      2719\n",
       "1   Cabrera High School   Charter                      1697\n",
       "2  Figueroa High School  District                      1569"
      ]
     },
     "execution_count": 32,
     "metadata": {},
     "output_type": "execute_result"
    }
   ],
   "source": [
    "school_type_overall_pass_df = pd.DataFrame(school_type_overall['Student ID'].count())\n",
    "school_type_overall_pass_df = school_type_overall_pass_df.rename(columns={\"Student ID\": \"Students Passing Overall\"})\n",
    "\n",
    "school_type_overall_pass_df=school_type_overall_pass_df.reset_index()\n",
    "school_type_overall_pass_df.head(3)"
   ]
  },
  {
   "cell_type": "code",
   "execution_count": 33,
   "metadata": {
    "collapsed": false
   },
   "outputs": [
    {
     "data": {
      "text/html": [
       "<div>\n",
       "<table border=\"1\" class=\"dataframe\">\n",
       "  <thead>\n",
       "    <tr style=\"text-align: right;\">\n",
       "      <th></th>\n",
       "      <th>school_name</th>\n",
       "      <th>type</th>\n",
       "      <th>Total Budget</th>\n",
       "      <th>Total Students</th>\n",
       "      <th>Per Student Budget</th>\n",
       "      <th>Average Math Score</th>\n",
       "      <th>Average Reading Score</th>\n",
       "      <th>Students Passing Math</th>\n",
       "      <th>% Passing Math</th>\n",
       "      <th>Students Passing Reading</th>\n",
       "      <th>% Passing Reading</th>\n",
       "      <th>Students Passing Overall</th>\n",
       "      <th>% Overall Passing</th>\n",
       "    </tr>\n",
       "  </thead>\n",
       "  <tbody>\n",
       "    <tr>\n",
       "      <th>0</th>\n",
       "      <td>Bailey High School</td>\n",
       "      <td>District</td>\n",
       "      <td>$3,124,928.00</td>\n",
       "      <td>4976.0</td>\n",
       "      <td>$628.00</td>\n",
       "      <td>77.048432</td>\n",
       "      <td>81.033963</td>\n",
       "      <td>3318</td>\n",
       "      <td>66.680064</td>\n",
       "      <td>4077</td>\n",
       "      <td>81.933280</td>\n",
       "      <td>2719</td>\n",
       "      <td>54.642283</td>\n",
       "    </tr>\n",
       "    <tr>\n",
       "      <th>1</th>\n",
       "      <td>Cabrera High School</td>\n",
       "      <td>Charter</td>\n",
       "      <td>$1,081,356.00</td>\n",
       "      <td>1858.0</td>\n",
       "      <td>$582.00</td>\n",
       "      <td>83.061895</td>\n",
       "      <td>83.975780</td>\n",
       "      <td>1749</td>\n",
       "      <td>94.133477</td>\n",
       "      <td>1803</td>\n",
       "      <td>97.039828</td>\n",
       "      <td>1697</td>\n",
       "      <td>91.334769</td>\n",
       "    </tr>\n",
       "    <tr>\n",
       "      <th>2</th>\n",
       "      <td>Figueroa High School</td>\n",
       "      <td>District</td>\n",
       "      <td>$1,884,411.00</td>\n",
       "      <td>2949.0</td>\n",
       "      <td>$639.00</td>\n",
       "      <td>76.711767</td>\n",
       "      <td>81.158020</td>\n",
       "      <td>1946</td>\n",
       "      <td>65.988471</td>\n",
       "      <td>2381</td>\n",
       "      <td>80.739234</td>\n",
       "      <td>1569</td>\n",
       "      <td>53.204476</td>\n",
       "    </tr>\n",
       "  </tbody>\n",
       "</table>\n",
       "</div>"
      ],
      "text/plain": [
       "            school_name      type   Total Budget  Total Students  \\\n",
       "0    Bailey High School  District  $3,124,928.00          4976.0   \n",
       "1   Cabrera High School   Charter  $1,081,356.00          1858.0   \n",
       "2  Figueroa High School  District  $1,884,411.00          2949.0   \n",
       "\n",
       "  Per Student Budget  Average Math Score  Average Reading Score  \\\n",
       "0            $628.00           77.048432              81.033963   \n",
       "1            $582.00           83.061895              83.975780   \n",
       "2            $639.00           76.711767              81.158020   \n",
       "\n",
       "   Students Passing Math  % Passing Math  Students Passing Reading  \\\n",
       "0                   3318       66.680064                      4077   \n",
       "1                   1749       94.133477                      1803   \n",
       "2                   1946       65.988471                      2381   \n",
       "\n",
       "   % Passing Reading  Students Passing Overall  % Overall Passing  \n",
       "0          81.933280                      2719          54.642283  \n",
       "1          97.039828                      1697          91.334769  \n",
       "2          80.739234                      1569          53.204476  "
      ]
     },
     "execution_count": 33,
     "metadata": {},
     "output_type": "execute_result"
    }
   ],
   "source": [
    "#Adding column to school_district df\n",
    "school_type_df['Students Passing Overall']=school_type_overall_pass_df['Students Passing Overall']\n",
    "school_type_df['% Overall Passing']=(school_type_df['Students Passing Overall']/school_type_df['Total Students'])*100\n",
    "\n",
    "school_type_df.head(3)"
   ]
  },
  {
   "cell_type": "code",
   "execution_count": 34,
   "metadata": {
    "collapsed": false
   },
   "outputs": [
    {
     "name": "stdout",
     "output_type": "stream",
     "text": [
      "Index(['school_name', 'type', 'Total Budget', 'Total Students',\n",
      "       'Per Student Budget', 'Average Math Score', 'Average Reading Score',\n",
      "       'Students Passing Math', '% Passing Math', 'Students Passing Reading',\n",
      "       '% Passing Reading', 'Students Passing Overall', '% Overall Passing'],\n",
      "      dtype='object')\n"
     ]
    }
   ],
   "source": [
    "print(school_type_df.columns)"
   ]
  },
  {
   "cell_type": "code",
   "execution_count": 35,
   "metadata": {
    "collapsed": false
   },
   "outputs": [
    {
     "data": {
      "text/html": [
       "<div>\n",
       "<table border=\"1\" class=\"dataframe\">\n",
       "  <thead>\n",
       "    <tr style=\"text-align: right;\">\n",
       "      <th></th>\n",
       "      <th>school_name</th>\n",
       "      <th>type</th>\n",
       "      <th>Total Students</th>\n",
       "      <th>Total Budget</th>\n",
       "      <th>Per Student Budget</th>\n",
       "      <th>Average Math Score</th>\n",
       "      <th>Average Reading Score</th>\n",
       "      <th>% Passing Math</th>\n",
       "      <th>% Passing Reading</th>\n",
       "      <th>% Overall Passing</th>\n",
       "    </tr>\n",
       "  </thead>\n",
       "  <tbody>\n",
       "    <tr>\n",
       "      <th>0</th>\n",
       "      <td>Bailey High School</td>\n",
       "      <td>District</td>\n",
       "      <td>4976.0</td>\n",
       "      <td>$3,124,928.00</td>\n",
       "      <td>$628.00</td>\n",
       "      <td>77.048432</td>\n",
       "      <td>81.033963</td>\n",
       "      <td>66.680064</td>\n",
       "      <td>81.933280</td>\n",
       "      <td>54.642283</td>\n",
       "    </tr>\n",
       "    <tr>\n",
       "      <th>1</th>\n",
       "      <td>Cabrera High School</td>\n",
       "      <td>Charter</td>\n",
       "      <td>1858.0</td>\n",
       "      <td>$1,081,356.00</td>\n",
       "      <td>$582.00</td>\n",
       "      <td>83.061895</td>\n",
       "      <td>83.975780</td>\n",
       "      <td>94.133477</td>\n",
       "      <td>97.039828</td>\n",
       "      <td>91.334769</td>\n",
       "    </tr>\n",
       "    <tr>\n",
       "      <th>2</th>\n",
       "      <td>Figueroa High School</td>\n",
       "      <td>District</td>\n",
       "      <td>2949.0</td>\n",
       "      <td>$1,884,411.00</td>\n",
       "      <td>$639.00</td>\n",
       "      <td>76.711767</td>\n",
       "      <td>81.158020</td>\n",
       "      <td>65.988471</td>\n",
       "      <td>80.739234</td>\n",
       "      <td>53.204476</td>\n",
       "    </tr>\n",
       "  </tbody>\n",
       "</table>\n",
       "</div>"
      ],
      "text/plain": [
       "            school_name      type  Total Students   Total Budget  \\\n",
       "0    Bailey High School  District          4976.0  $3,124,928.00   \n",
       "1   Cabrera High School   Charter          1858.0  $1,081,356.00   \n",
       "2  Figueroa High School  District          2949.0  $1,884,411.00   \n",
       "\n",
       "  Per Student Budget  Average Math Score  Average Reading Score  \\\n",
       "0            $628.00           77.048432              81.033963   \n",
       "1            $582.00           83.061895              83.975780   \n",
       "2            $639.00           76.711767              81.158020   \n",
       "\n",
       "   % Passing Math  % Passing Reading  % Overall Passing  \n",
       "0       66.680064          81.933280          54.642283  \n",
       "1       94.133477          97.039828          91.334769  \n",
       "2       65.988471          80.739234          53.204476  "
      ]
     },
     "execution_count": 35,
     "metadata": {},
     "output_type": "execute_result"
    }
   ],
   "source": [
    "school_type_df1=school_type_df[['school_name', 'type', 'Total Students', 'Total Budget',\n",
    "       'Per Student Budget', 'Average Math Score', 'Average Reading Score',\n",
    "       '% Passing Math', '% Passing Reading', '% Overall Passing']]\n",
    "    \n",
    "\n",
    "school_type_df1.head(3)"
   ]
  },
  {
   "cell_type": "code",
   "execution_count": 36,
   "metadata": {
    "collapsed": false
   },
   "outputs": [],
   "source": [
    "school_summary=school_type_df1\n"
   ]
  },
  {
   "cell_type": "markdown",
   "metadata": {},
   "source": [
    "# School Summary"
   ]
  },
  {
   "cell_type": "code",
   "execution_count": 125,
   "metadata": {
    "collapsed": false
   },
   "outputs": [
    {
     "data": {
      "text/html": [
       "<div>\n",
       "<table border=\"1\" class=\"dataframe\">\n",
       "  <thead>\n",
       "    <tr style=\"text-align: right;\">\n",
       "      <th></th>\n",
       "      <th>school_name</th>\n",
       "      <th>type</th>\n",
       "      <th>Total Students</th>\n",
       "      <th>Total Budget</th>\n",
       "      <th>Per Student Budget</th>\n",
       "      <th>Average Math Score</th>\n",
       "      <th>Average Reading Score</th>\n",
       "      <th>% Passing Math</th>\n",
       "      <th>% Passing Reading</th>\n",
       "      <th>% Overall Passing</th>\n",
       "    </tr>\n",
       "  </thead>\n",
       "  <tbody>\n",
       "    <tr>\n",
       "      <th>0</th>\n",
       "      <td>Bailey High School</td>\n",
       "      <td>District</td>\n",
       "      <td>4976.0</td>\n",
       "      <td>$3,124,928.00</td>\n",
       "      <td>$628.00</td>\n",
       "      <td>77.048432</td>\n",
       "      <td>81.033963</td>\n",
       "      <td>66.680064</td>\n",
       "      <td>81.933280</td>\n",
       "      <td>54.642283</td>\n",
       "    </tr>\n",
       "    <tr>\n",
       "      <th>1</th>\n",
       "      <td>Cabrera High School</td>\n",
       "      <td>Charter</td>\n",
       "      <td>1858.0</td>\n",
       "      <td>$1,081,356.00</td>\n",
       "      <td>$582.00</td>\n",
       "      <td>83.061895</td>\n",
       "      <td>83.975780</td>\n",
       "      <td>94.133477</td>\n",
       "      <td>97.039828</td>\n",
       "      <td>91.334769</td>\n",
       "    </tr>\n",
       "    <tr>\n",
       "      <th>2</th>\n",
       "      <td>Figueroa High School</td>\n",
       "      <td>District</td>\n",
       "      <td>2949.0</td>\n",
       "      <td>$1,884,411.00</td>\n",
       "      <td>$639.00</td>\n",
       "      <td>76.711767</td>\n",
       "      <td>81.158020</td>\n",
       "      <td>65.988471</td>\n",
       "      <td>80.739234</td>\n",
       "      <td>53.204476</td>\n",
       "    </tr>\n",
       "    <tr>\n",
       "      <th>3</th>\n",
       "      <td>Ford High School</td>\n",
       "      <td>District</td>\n",
       "      <td>2739.0</td>\n",
       "      <td>$1,763,916.00</td>\n",
       "      <td>$644.00</td>\n",
       "      <td>77.102592</td>\n",
       "      <td>80.746258</td>\n",
       "      <td>68.309602</td>\n",
       "      <td>79.299014</td>\n",
       "      <td>54.289887</td>\n",
       "    </tr>\n",
       "    <tr>\n",
       "      <th>4</th>\n",
       "      <td>Griffin High School</td>\n",
       "      <td>Charter</td>\n",
       "      <td>1468.0</td>\n",
       "      <td>$917,500.00</td>\n",
       "      <td>$625.00</td>\n",
       "      <td>83.351499</td>\n",
       "      <td>83.816757</td>\n",
       "      <td>93.392371</td>\n",
       "      <td>97.138965</td>\n",
       "      <td>90.599455</td>\n",
       "    </tr>\n",
       "    <tr>\n",
       "      <th>5</th>\n",
       "      <td>Hernandez High School</td>\n",
       "      <td>District</td>\n",
       "      <td>4635.0</td>\n",
       "      <td>$3,022,020.00</td>\n",
       "      <td>$652.00</td>\n",
       "      <td>77.289752</td>\n",
       "      <td>80.934412</td>\n",
       "      <td>66.752967</td>\n",
       "      <td>80.862999</td>\n",
       "      <td>53.527508</td>\n",
       "    </tr>\n",
       "    <tr>\n",
       "      <th>6</th>\n",
       "      <td>Holden High School</td>\n",
       "      <td>Charter</td>\n",
       "      <td>427.0</td>\n",
       "      <td>$248,087.00</td>\n",
       "      <td>$581.00</td>\n",
       "      <td>83.803279</td>\n",
       "      <td>83.814988</td>\n",
       "      <td>92.505855</td>\n",
       "      <td>96.252927</td>\n",
       "      <td>89.227166</td>\n",
       "    </tr>\n",
       "    <tr>\n",
       "      <th>7</th>\n",
       "      <td>Huang High School</td>\n",
       "      <td>District</td>\n",
       "      <td>2917.0</td>\n",
       "      <td>$1,910,635.00</td>\n",
       "      <td>$655.00</td>\n",
       "      <td>76.629414</td>\n",
       "      <td>81.182722</td>\n",
       "      <td>65.683922</td>\n",
       "      <td>81.316421</td>\n",
       "      <td>53.513884</td>\n",
       "    </tr>\n",
       "    <tr>\n",
       "      <th>8</th>\n",
       "      <td>Johnson High School</td>\n",
       "      <td>District</td>\n",
       "      <td>4761.0</td>\n",
       "      <td>$3,094,650.00</td>\n",
       "      <td>$650.00</td>\n",
       "      <td>77.072464</td>\n",
       "      <td>80.966394</td>\n",
       "      <td>66.057551</td>\n",
       "      <td>81.222432</td>\n",
       "      <td>53.539172</td>\n",
       "    </tr>\n",
       "    <tr>\n",
       "      <th>9</th>\n",
       "      <td>Pena High School</td>\n",
       "      <td>Charter</td>\n",
       "      <td>962.0</td>\n",
       "      <td>$585,858.00</td>\n",
       "      <td>$609.00</td>\n",
       "      <td>83.839917</td>\n",
       "      <td>84.044699</td>\n",
       "      <td>94.594595</td>\n",
       "      <td>95.945946</td>\n",
       "      <td>90.540541</td>\n",
       "    </tr>\n",
       "    <tr>\n",
       "      <th>10</th>\n",
       "      <td>Rodriguez High School</td>\n",
       "      <td>District</td>\n",
       "      <td>3999.0</td>\n",
       "      <td>$2,547,363.00</td>\n",
       "      <td>$637.00</td>\n",
       "      <td>76.842711</td>\n",
       "      <td>80.744686</td>\n",
       "      <td>66.366592</td>\n",
       "      <td>80.220055</td>\n",
       "      <td>52.988247</td>\n",
       "    </tr>\n",
       "    <tr>\n",
       "      <th>11</th>\n",
       "      <td>Shelton High School</td>\n",
       "      <td>Charter</td>\n",
       "      <td>1761.0</td>\n",
       "      <td>$1,056,600.00</td>\n",
       "      <td>$600.00</td>\n",
       "      <td>83.359455</td>\n",
       "      <td>83.725724</td>\n",
       "      <td>93.867121</td>\n",
       "      <td>95.854628</td>\n",
       "      <td>89.892107</td>\n",
       "    </tr>\n",
       "    <tr>\n",
       "      <th>12</th>\n",
       "      <td>Thomas High School</td>\n",
       "      <td>Charter</td>\n",
       "      <td>1635.0</td>\n",
       "      <td>$1,043,130.00</td>\n",
       "      <td>$638.00</td>\n",
       "      <td>83.418349</td>\n",
       "      <td>83.848930</td>\n",
       "      <td>93.272171</td>\n",
       "      <td>97.308869</td>\n",
       "      <td>90.948012</td>\n",
       "    </tr>\n",
       "    <tr>\n",
       "      <th>13</th>\n",
       "      <td>Wilson High School</td>\n",
       "      <td>Charter</td>\n",
       "      <td>2283.0</td>\n",
       "      <td>$1,319,574.00</td>\n",
       "      <td>$578.00</td>\n",
       "      <td>83.274201</td>\n",
       "      <td>83.989488</td>\n",
       "      <td>93.867718</td>\n",
       "      <td>96.539641</td>\n",
       "      <td>90.582567</td>\n",
       "    </tr>\n",
       "    <tr>\n",
       "      <th>14</th>\n",
       "      <td>Wright High School</td>\n",
       "      <td>Charter</td>\n",
       "      <td>1800.0</td>\n",
       "      <td>$1,049,400.00</td>\n",
       "      <td>$583.00</td>\n",
       "      <td>83.682222</td>\n",
       "      <td>83.955000</td>\n",
       "      <td>93.333333</td>\n",
       "      <td>96.611111</td>\n",
       "      <td>90.333333</td>\n",
       "    </tr>\n",
       "  </tbody>\n",
       "</table>\n",
       "</div>"
      ],
      "text/plain": [
       "              school_name      type  Total Students   Total Budget  \\\n",
       "0      Bailey High School  District          4976.0  $3,124,928.00   \n",
       "1     Cabrera High School   Charter          1858.0  $1,081,356.00   \n",
       "2    Figueroa High School  District          2949.0  $1,884,411.00   \n",
       "3        Ford High School  District          2739.0  $1,763,916.00   \n",
       "4     Griffin High School   Charter          1468.0    $917,500.00   \n",
       "5   Hernandez High School  District          4635.0  $3,022,020.00   \n",
       "6      Holden High School   Charter           427.0    $248,087.00   \n",
       "7       Huang High School  District          2917.0  $1,910,635.00   \n",
       "8     Johnson High School  District          4761.0  $3,094,650.00   \n",
       "9        Pena High School   Charter           962.0    $585,858.00   \n",
       "10  Rodriguez High School  District          3999.0  $2,547,363.00   \n",
       "11    Shelton High School   Charter          1761.0  $1,056,600.00   \n",
       "12     Thomas High School   Charter          1635.0  $1,043,130.00   \n",
       "13     Wilson High School   Charter          2283.0  $1,319,574.00   \n",
       "14     Wright High School   Charter          1800.0  $1,049,400.00   \n",
       "\n",
       "   Per Student Budget  Average Math Score  Average Reading Score  \\\n",
       "0             $628.00           77.048432              81.033963   \n",
       "1             $582.00           83.061895              83.975780   \n",
       "2             $639.00           76.711767              81.158020   \n",
       "3             $644.00           77.102592              80.746258   \n",
       "4             $625.00           83.351499              83.816757   \n",
       "5             $652.00           77.289752              80.934412   \n",
       "6             $581.00           83.803279              83.814988   \n",
       "7             $655.00           76.629414              81.182722   \n",
       "8             $650.00           77.072464              80.966394   \n",
       "9             $609.00           83.839917              84.044699   \n",
       "10            $637.00           76.842711              80.744686   \n",
       "11            $600.00           83.359455              83.725724   \n",
       "12            $638.00           83.418349              83.848930   \n",
       "13            $578.00           83.274201              83.989488   \n",
       "14            $583.00           83.682222              83.955000   \n",
       "\n",
       "    % Passing Math  % Passing Reading  % Overall Passing  \n",
       "0        66.680064          81.933280          54.642283  \n",
       "1        94.133477          97.039828          91.334769  \n",
       "2        65.988471          80.739234          53.204476  \n",
       "3        68.309602          79.299014          54.289887  \n",
       "4        93.392371          97.138965          90.599455  \n",
       "5        66.752967          80.862999          53.527508  \n",
       "6        92.505855          96.252927          89.227166  \n",
       "7        65.683922          81.316421          53.513884  \n",
       "8        66.057551          81.222432          53.539172  \n",
       "9        94.594595          95.945946          90.540541  \n",
       "10       66.366592          80.220055          52.988247  \n",
       "11       93.867121          95.854628          89.892107  \n",
       "12       93.272171          97.308869          90.948012  \n",
       "13       93.867718          96.539641          90.582567  \n",
       "14       93.333333          96.611111          90.333333  "
      ]
     },
     "execution_count": 125,
     "metadata": {},
     "output_type": "execute_result"
    }
   ],
   "source": [
    "school_summary"
   ]
  },
  {
   "cell_type": "markdown",
   "metadata": {},
   "source": [
    "## Top Performing Schools (By % Overall Passing)"
   ]
  },
  {
   "cell_type": "markdown",
   "metadata": {},
   "source": [
    "* Sort and display the top five performing schools by % overall passing."
   ]
  },
  {
   "cell_type": "code",
   "execution_count": 127,
   "metadata": {
    "collapsed": false,
    "scrolled": true
   },
   "outputs": [
    {
     "data": {
      "text/html": [
       "<div>\n",
       "<table border=\"1\" class=\"dataframe\">\n",
       "  <thead>\n",
       "    <tr style=\"text-align: right;\">\n",
       "      <th></th>\n",
       "      <th>school_name</th>\n",
       "      <th>type</th>\n",
       "      <th>Total Students</th>\n",
       "      <th>Total Budget</th>\n",
       "      <th>Per Student Budget</th>\n",
       "      <th>Average Math Score</th>\n",
       "      <th>Average Reading Score</th>\n",
       "      <th>% Passing Math</th>\n",
       "      <th>% Passing Reading</th>\n",
       "      <th>% Overall Passing</th>\n",
       "    </tr>\n",
       "  </thead>\n",
       "  <tbody>\n",
       "    <tr>\n",
       "      <th>1</th>\n",
       "      <td>Cabrera High School</td>\n",
       "      <td>Charter</td>\n",
       "      <td>1858.0</td>\n",
       "      <td>$1,081,356.00</td>\n",
       "      <td>$582.00</td>\n",
       "      <td>83.061895</td>\n",
       "      <td>83.975780</td>\n",
       "      <td>94.133477</td>\n",
       "      <td>97.039828</td>\n",
       "      <td>91.334769</td>\n",
       "    </tr>\n",
       "    <tr>\n",
       "      <th>12</th>\n",
       "      <td>Thomas High School</td>\n",
       "      <td>Charter</td>\n",
       "      <td>1635.0</td>\n",
       "      <td>$1,043,130.00</td>\n",
       "      <td>$638.00</td>\n",
       "      <td>83.418349</td>\n",
       "      <td>83.848930</td>\n",
       "      <td>93.272171</td>\n",
       "      <td>97.308869</td>\n",
       "      <td>90.948012</td>\n",
       "    </tr>\n",
       "    <tr>\n",
       "      <th>4</th>\n",
       "      <td>Griffin High School</td>\n",
       "      <td>Charter</td>\n",
       "      <td>1468.0</td>\n",
       "      <td>$917,500.00</td>\n",
       "      <td>$625.00</td>\n",
       "      <td>83.351499</td>\n",
       "      <td>83.816757</td>\n",
       "      <td>93.392371</td>\n",
       "      <td>97.138965</td>\n",
       "      <td>90.599455</td>\n",
       "    </tr>\n",
       "    <tr>\n",
       "      <th>13</th>\n",
       "      <td>Wilson High School</td>\n",
       "      <td>Charter</td>\n",
       "      <td>2283.0</td>\n",
       "      <td>$1,319,574.00</td>\n",
       "      <td>$578.00</td>\n",
       "      <td>83.274201</td>\n",
       "      <td>83.989488</td>\n",
       "      <td>93.867718</td>\n",
       "      <td>96.539641</td>\n",
       "      <td>90.582567</td>\n",
       "    </tr>\n",
       "    <tr>\n",
       "      <th>9</th>\n",
       "      <td>Pena High School</td>\n",
       "      <td>Charter</td>\n",
       "      <td>962.0</td>\n",
       "      <td>$585,858.00</td>\n",
       "      <td>$609.00</td>\n",
       "      <td>83.839917</td>\n",
       "      <td>84.044699</td>\n",
       "      <td>94.594595</td>\n",
       "      <td>95.945946</td>\n",
       "      <td>90.540541</td>\n",
       "    </tr>\n",
       "  </tbody>\n",
       "</table>\n",
       "</div>"
      ],
      "text/plain": [
       "            school_name     type  Total Students   Total Budget  \\\n",
       "1   Cabrera High School  Charter          1858.0  $1,081,356.00   \n",
       "12   Thomas High School  Charter          1635.0  $1,043,130.00   \n",
       "4   Griffin High School  Charter          1468.0    $917,500.00   \n",
       "13   Wilson High School  Charter          2283.0  $1,319,574.00   \n",
       "9      Pena High School  Charter           962.0    $585,858.00   \n",
       "\n",
       "   Per Student Budget  Average Math Score  Average Reading Score  \\\n",
       "1             $582.00           83.061895              83.975780   \n",
       "12            $638.00           83.418349              83.848930   \n",
       "4             $625.00           83.351499              83.816757   \n",
       "13            $578.00           83.274201              83.989488   \n",
       "9             $609.00           83.839917              84.044699   \n",
       "\n",
       "    % Passing Math  % Passing Reading  % Overall Passing  \n",
       "1        94.133477          97.039828          91.334769  \n",
       "12       93.272171          97.308869          90.948012  \n",
       "4        93.392371          97.138965          90.599455  \n",
       "13       93.867718          96.539641          90.582567  \n",
       "9        94.594595          95.945946          90.540541  "
      ]
     },
     "execution_count": 127,
     "metadata": {},
     "output_type": "execute_result"
    }
   ],
   "source": [
    "top_performing_schools=school_summary.sort_values(by=[\"% Overall Passing\"], ascending=False)\n",
    "top_performing_schools.head(5)"
   ]
  },
  {
   "cell_type": "markdown",
   "metadata": {},
   "source": [
    "## Bottom Performing Schools (By % Overall Passing)"
   ]
  },
  {
   "cell_type": "markdown",
   "metadata": {},
   "source": [
    "* Sort and display the five worst-performing schools by % overall passing."
   ]
  },
  {
   "cell_type": "code",
   "execution_count": 128,
   "metadata": {
    "collapsed": false
   },
   "outputs": [
    {
     "data": {
      "text/html": [
       "<div>\n",
       "<table border=\"1\" class=\"dataframe\">\n",
       "  <thead>\n",
       "    <tr style=\"text-align: right;\">\n",
       "      <th></th>\n",
       "      <th>school_name</th>\n",
       "      <th>type</th>\n",
       "      <th>Total Students</th>\n",
       "      <th>Total Budget</th>\n",
       "      <th>Per Student Budget</th>\n",
       "      <th>Average Math Score</th>\n",
       "      <th>Average Reading Score</th>\n",
       "      <th>% Passing Math</th>\n",
       "      <th>% Passing Reading</th>\n",
       "      <th>% Overall Passing</th>\n",
       "    </tr>\n",
       "  </thead>\n",
       "  <tbody>\n",
       "    <tr>\n",
       "      <th>10</th>\n",
       "      <td>Rodriguez High School</td>\n",
       "      <td>District</td>\n",
       "      <td>3999.0</td>\n",
       "      <td>$2,547,363.00</td>\n",
       "      <td>$637.00</td>\n",
       "      <td>76.842711</td>\n",
       "      <td>80.744686</td>\n",
       "      <td>66.366592</td>\n",
       "      <td>80.220055</td>\n",
       "      <td>52.988247</td>\n",
       "    </tr>\n",
       "    <tr>\n",
       "      <th>2</th>\n",
       "      <td>Figueroa High School</td>\n",
       "      <td>District</td>\n",
       "      <td>2949.0</td>\n",
       "      <td>$1,884,411.00</td>\n",
       "      <td>$639.00</td>\n",
       "      <td>76.711767</td>\n",
       "      <td>81.158020</td>\n",
       "      <td>65.988471</td>\n",
       "      <td>80.739234</td>\n",
       "      <td>53.204476</td>\n",
       "    </tr>\n",
       "    <tr>\n",
       "      <th>7</th>\n",
       "      <td>Huang High School</td>\n",
       "      <td>District</td>\n",
       "      <td>2917.0</td>\n",
       "      <td>$1,910,635.00</td>\n",
       "      <td>$655.00</td>\n",
       "      <td>76.629414</td>\n",
       "      <td>81.182722</td>\n",
       "      <td>65.683922</td>\n",
       "      <td>81.316421</td>\n",
       "      <td>53.513884</td>\n",
       "    </tr>\n",
       "    <tr>\n",
       "      <th>5</th>\n",
       "      <td>Hernandez High School</td>\n",
       "      <td>District</td>\n",
       "      <td>4635.0</td>\n",
       "      <td>$3,022,020.00</td>\n",
       "      <td>$652.00</td>\n",
       "      <td>77.289752</td>\n",
       "      <td>80.934412</td>\n",
       "      <td>66.752967</td>\n",
       "      <td>80.862999</td>\n",
       "      <td>53.527508</td>\n",
       "    </tr>\n",
       "    <tr>\n",
       "      <th>8</th>\n",
       "      <td>Johnson High School</td>\n",
       "      <td>District</td>\n",
       "      <td>4761.0</td>\n",
       "      <td>$3,094,650.00</td>\n",
       "      <td>$650.00</td>\n",
       "      <td>77.072464</td>\n",
       "      <td>80.966394</td>\n",
       "      <td>66.057551</td>\n",
       "      <td>81.222432</td>\n",
       "      <td>53.539172</td>\n",
       "    </tr>\n",
       "  </tbody>\n",
       "</table>\n",
       "</div>"
      ],
      "text/plain": [
       "              school_name      type  Total Students   Total Budget  \\\n",
       "10  Rodriguez High School  District          3999.0  $2,547,363.00   \n",
       "2    Figueroa High School  District          2949.0  $1,884,411.00   \n",
       "7       Huang High School  District          2917.0  $1,910,635.00   \n",
       "5   Hernandez High School  District          4635.0  $3,022,020.00   \n",
       "8     Johnson High School  District          4761.0  $3,094,650.00   \n",
       "\n",
       "   Per Student Budget  Average Math Score  Average Reading Score  \\\n",
       "10            $637.00           76.842711              80.744686   \n",
       "2             $639.00           76.711767              81.158020   \n",
       "7             $655.00           76.629414              81.182722   \n",
       "5             $652.00           77.289752              80.934412   \n",
       "8             $650.00           77.072464              80.966394   \n",
       "\n",
       "    % Passing Math  % Passing Reading  % Overall Passing  \n",
       "10       66.366592          80.220055          52.988247  \n",
       "2        65.988471          80.739234          53.204476  \n",
       "7        65.683922          81.316421          53.513884  \n",
       "5        66.752967          80.862999          53.527508  \n",
       "8        66.057551          81.222432          53.539172  "
      ]
     },
     "execution_count": 128,
     "metadata": {},
     "output_type": "execute_result"
    }
   ],
   "source": [
    "bottom_performing_schools=school_summary.sort_values(by=[\"% Overall Passing\"])\n",
    "bottom_performing_schools.head(5)"
   ]
  },
  {
   "cell_type": "markdown",
   "metadata": {
    "collapsed": true
   },
   "source": [
    "## Math Scores by Grade"
   ]
  },
  {
   "cell_type": "markdown",
   "metadata": {},
   "source": [
    "* Create a table that lists the average Reading Score for students of each grade level (9th, 10th, 11th, 12th) at each school.\n",
    "\n",
    "  * Create a pandas series for each grade. Hint: use a conditional statement.\n",
    "  \n",
    "  * Group each series by school\n",
    "  \n",
    "  * Combine the series into a dataframe\n",
    "  \n",
    "  * Optional: give the displayed data cleaner formatting"
   ]
  },
  {
   "cell_type": "code",
   "execution_count": 41,
   "metadata": {
    "collapsed": false
   },
   "outputs": [
    {
     "data": {
      "text/html": [
       "<div>\n",
       "<table border=\"1\" class=\"dataframe\">\n",
       "  <thead>\n",
       "    <tr style=\"text-align: right;\">\n",
       "      <th></th>\n",
       "      <th>9th</th>\n",
       "    </tr>\n",
       "    <tr>\n",
       "      <th>school_name</th>\n",
       "      <th></th>\n",
       "    </tr>\n",
       "  </thead>\n",
       "  <tbody>\n",
       "    <tr>\n",
       "      <th>Bailey High School</th>\n",
       "      <td>77.083676</td>\n",
       "    </tr>\n",
       "    <tr>\n",
       "      <th>Cabrera High School</th>\n",
       "      <td>83.094697</td>\n",
       "    </tr>\n",
       "  </tbody>\n",
       "</table>\n",
       "</div>"
      ],
      "text/plain": [
       "                           9th\n",
       "school_name                   \n",
       "Bailey High School   77.083676\n",
       "Cabrera High School  83.094697"
      ]
     },
     "execution_count": 41,
     "metadata": {},
     "output_type": "execute_result"
    }
   ],
   "source": [
    "# 9th grade math\n",
    "columns = ['school_name','grade','math_score']\n",
    "math_9=student_data.loc[student_data['grade']=='9th', columns]\n",
    "math_school_9 = math_9.groupby(['school_name'])\n",
    "school_math_9= pd.DataFrame(math_school_9['math_score'].mean())\n",
    "school_math_9=school_math_9.rename(columns={\"math_score\": \"9th\"})\n",
    "school_math_9.head(2)"
   ]
  },
  {
   "cell_type": "code",
   "execution_count": 42,
   "metadata": {
    "collapsed": false
   },
   "outputs": [
    {
     "data": {
      "text/html": [
       "<div>\n",
       "<table border=\"1\" class=\"dataframe\">\n",
       "  <thead>\n",
       "    <tr style=\"text-align: right;\">\n",
       "      <th></th>\n",
       "      <th>10th</th>\n",
       "    </tr>\n",
       "    <tr>\n",
       "      <th>school_name</th>\n",
       "      <th></th>\n",
       "    </tr>\n",
       "  </thead>\n",
       "  <tbody>\n",
       "    <tr>\n",
       "      <th>Bailey High School</th>\n",
       "      <td>76.996772</td>\n",
       "    </tr>\n",
       "    <tr>\n",
       "      <th>Cabrera High School</th>\n",
       "      <td>83.154506</td>\n",
       "    </tr>\n",
       "  </tbody>\n",
       "</table>\n",
       "</div>"
      ],
      "text/plain": [
       "                          10th\n",
       "school_name                   \n",
       "Bailey High School   76.996772\n",
       "Cabrera High School  83.154506"
      ]
     },
     "execution_count": 42,
     "metadata": {},
     "output_type": "execute_result"
    }
   ],
   "source": [
    "# 10th grade math\n",
    "columns = ['school_name','grade','math_score']\n",
    "math_10=student_data.loc[student_data['grade']=='10th', columns]\n",
    "math_school_10 = math_10.groupby(['school_name'])\n",
    "school_math_10= pd.DataFrame(math_school_10['math_score'].mean())\n",
    "school_math_10=school_math_10.rename(columns={\"math_score\": \"10th\"})\n",
    "school_math_10.head(2)"
   ]
  },
  {
   "cell_type": "code",
   "execution_count": 43,
   "metadata": {
    "collapsed": false
   },
   "outputs": [
    {
     "data": {
      "text/html": [
       "<div>\n",
       "<table border=\"1\" class=\"dataframe\">\n",
       "  <thead>\n",
       "    <tr style=\"text-align: right;\">\n",
       "      <th></th>\n",
       "      <th>11th</th>\n",
       "    </tr>\n",
       "    <tr>\n",
       "      <th>school_name</th>\n",
       "      <th></th>\n",
       "    </tr>\n",
       "  </thead>\n",
       "  <tbody>\n",
       "    <tr>\n",
       "      <th>Bailey High School</th>\n",
       "      <td>77.515588</td>\n",
       "    </tr>\n",
       "    <tr>\n",
       "      <th>Cabrera High School</th>\n",
       "      <td>82.765560</td>\n",
       "    </tr>\n",
       "  </tbody>\n",
       "</table>\n",
       "</div>"
      ],
      "text/plain": [
       "                          11th\n",
       "school_name                   \n",
       "Bailey High School   77.515588\n",
       "Cabrera High School  82.765560"
      ]
     },
     "execution_count": 43,
     "metadata": {},
     "output_type": "execute_result"
    }
   ],
   "source": [
    "# 11th grade math\n",
    "columns = ['school_name','grade','math_score']\n",
    "math_11=student_data.loc[student_data['grade']=='11th', columns]\n",
    "math_school_11 = math_11.groupby(['school_name'])\n",
    "school_math_11 = pd.DataFrame(math_school_11['math_score'].mean())\n",
    "school_math_11 =school_math_11.rename(columns={\"math_score\": \"11th\"})\n",
    "school_math_11.head(2)"
   ]
  },
  {
   "cell_type": "code",
   "execution_count": 44,
   "metadata": {
    "collapsed": false
   },
   "outputs": [
    {
     "data": {
      "text/html": [
       "<div>\n",
       "<table border=\"1\" class=\"dataframe\">\n",
       "  <thead>\n",
       "    <tr style=\"text-align: right;\">\n",
       "      <th></th>\n",
       "      <th>12th</th>\n",
       "    </tr>\n",
       "    <tr>\n",
       "      <th>school_name</th>\n",
       "      <th></th>\n",
       "    </tr>\n",
       "  </thead>\n",
       "  <tbody>\n",
       "    <tr>\n",
       "      <th>Bailey High School</th>\n",
       "      <td>76.492218</td>\n",
       "    </tr>\n",
       "    <tr>\n",
       "      <th>Cabrera High School</th>\n",
       "      <td>83.277487</td>\n",
       "    </tr>\n",
       "  </tbody>\n",
       "</table>\n",
       "</div>"
      ],
      "text/plain": [
       "                          12th\n",
       "school_name                   \n",
       "Bailey High School   76.492218\n",
       "Cabrera High School  83.277487"
      ]
     },
     "execution_count": 44,
     "metadata": {},
     "output_type": "execute_result"
    }
   ],
   "source": [
    "# 12th grade math\n",
    "columns = ['school_name','grade','math_score']\n",
    "math_12=student_data.loc[student_data['grade']=='12th', columns]\n",
    "math_school_12 = math_12.groupby(['school_name'])\n",
    "school_math_12 = pd.DataFrame(math_school_12['math_score'].mean())\n",
    "school_math_12 =school_math_12.rename(columns={\"math_score\": \"12th\"})\n",
    "school_math_12.head(2)"
   ]
  },
  {
   "cell_type": "code",
   "execution_count": 45,
   "metadata": {
    "collapsed": false
   },
   "outputs": [
    {
     "data": {
      "text/html": [
       "<div>\n",
       "<table border=\"1\" class=\"dataframe\">\n",
       "  <thead>\n",
       "    <tr style=\"text-align: right;\">\n",
       "      <th></th>\n",
       "      <th>9th</th>\n",
       "      <th>10th</th>\n",
       "      <th>11th</th>\n",
       "      <th>12th</th>\n",
       "    </tr>\n",
       "    <tr>\n",
       "      <th>school_name</th>\n",
       "      <th></th>\n",
       "      <th></th>\n",
       "      <th></th>\n",
       "      <th></th>\n",
       "    </tr>\n",
       "  </thead>\n",
       "  <tbody>\n",
       "    <tr>\n",
       "      <th>Bailey High School</th>\n",
       "      <td>77.083676</td>\n",
       "      <td>76.996772</td>\n",
       "      <td>77.515588</td>\n",
       "      <td>76.492218</td>\n",
       "    </tr>\n",
       "    <tr>\n",
       "      <th>Cabrera High School</th>\n",
       "      <td>83.094697</td>\n",
       "      <td>83.154506</td>\n",
       "      <td>82.765560</td>\n",
       "      <td>83.277487</td>\n",
       "    </tr>\n",
       "    <tr>\n",
       "      <th>Figueroa High School</th>\n",
       "      <td>76.403037</td>\n",
       "      <td>76.539974</td>\n",
       "      <td>76.884344</td>\n",
       "      <td>77.151369</td>\n",
       "    </tr>\n",
       "    <tr>\n",
       "      <th>Ford High School</th>\n",
       "      <td>77.361345</td>\n",
       "      <td>77.672316</td>\n",
       "      <td>76.918058</td>\n",
       "      <td>76.179963</td>\n",
       "    </tr>\n",
       "    <tr>\n",
       "      <th>Griffin High School</th>\n",
       "      <td>82.044010</td>\n",
       "      <td>84.229064</td>\n",
       "      <td>83.842105</td>\n",
       "      <td>83.356164</td>\n",
       "    </tr>\n",
       "  </tbody>\n",
       "</table>\n",
       "</div>"
      ],
      "text/plain": [
       "                            9th       10th       11th       12th\n",
       "school_name                                                     \n",
       "Bailey High School    77.083676  76.996772  77.515588  76.492218\n",
       "Cabrera High School   83.094697  83.154506  82.765560  83.277487\n",
       "Figueroa High School  76.403037  76.539974  76.884344  77.151369\n",
       "Ford High School      77.361345  77.672316  76.918058  76.179963\n",
       "Griffin High School   82.044010  84.229064  83.842105  83.356164"
      ]
     },
     "execution_count": 45,
     "metadata": {},
     "output_type": "execute_result"
    }
   ],
   "source": [
    "math_score_by_grade=pd.concat([school_math_9,school_math_10, school_math_11, school_math_12], axis=1)\n",
    "math_score_by_grade.head()"
   ]
  },
  {
   "cell_type": "markdown",
   "metadata": {},
   "source": [
    "# PIVOT"
   ]
  },
  {
   "cell_type": "code",
   "execution_count": 46,
   "metadata": {
    "collapsed": false
   },
   "outputs": [],
   "source": [
    "math_df = student_data[['school_name','grade','math_score']]"
   ]
  },
  {
   "cell_type": "code",
   "execution_count": 47,
   "metadata": {
    "collapsed": true
   },
   "outputs": [],
   "source": [
    "math_school=math_df.groupby(['school_name','grade'])"
   ]
  },
  {
   "cell_type": "code",
   "execution_count": 48,
   "metadata": {
    "collapsed": false
   },
   "outputs": [
    {
     "data": {
      "text/html": [
       "<div>\n",
       "<table border=\"1\" class=\"dataframe\">\n",
       "  <thead>\n",
       "    <tr style=\"text-align: right;\">\n",
       "      <th></th>\n",
       "      <th>school_name</th>\n",
       "      <th>grade</th>\n",
       "      <th>math_score</th>\n",
       "    </tr>\n",
       "  </thead>\n",
       "  <tbody>\n",
       "    <tr>\n",
       "      <th>0</th>\n",
       "      <td>Bailey High School</td>\n",
       "      <td>10th</td>\n",
       "      <td>76.996772</td>\n",
       "    </tr>\n",
       "    <tr>\n",
       "      <th>1</th>\n",
       "      <td>Bailey High School</td>\n",
       "      <td>11th</td>\n",
       "      <td>77.515588</td>\n",
       "    </tr>\n",
       "  </tbody>\n",
       "</table>\n",
       "</div>"
      ],
      "text/plain": [
       "          school_name grade  math_score\n",
       "0  Bailey High School  10th   76.996772\n",
       "1  Bailey High School  11th   77.515588"
      ]
     },
     "execution_count": 48,
     "metadata": {},
     "output_type": "execute_result"
    }
   ],
   "source": [
    "school_math_df= pd.DataFrame(math_school['math_score'].mean())\n",
    "school_math_df=school_math_df.reset_index()\n",
    "school_math_df.head(2)"
   ]
  },
  {
   "cell_type": "code",
   "execution_count": 136,
   "metadata": {
    "collapsed": false
   },
   "outputs": [
    {
     "data": {
      "text/html": [
       "<div>\n",
       "<table border=\"1\" class=\"dataframe\">\n",
       "  <thead>\n",
       "    <tr style=\"text-align: right;\">\n",
       "      <th>grade</th>\n",
       "      <th>school_name</th>\n",
       "      <th>10th</th>\n",
       "      <th>11th</th>\n",
       "      <th>12th</th>\n",
       "      <th>9th</th>\n",
       "    </tr>\n",
       "  </thead>\n",
       "  <tbody>\n",
       "    <tr>\n",
       "      <th>0</th>\n",
       "      <td>Bailey High School</td>\n",
       "      <td>76.996772</td>\n",
       "      <td>77.515588</td>\n",
       "      <td>76.492218</td>\n",
       "      <td>77.083676</td>\n",
       "    </tr>\n",
       "    <tr>\n",
       "      <th>1</th>\n",
       "      <td>Cabrera High School</td>\n",
       "      <td>83.154506</td>\n",
       "      <td>82.765560</td>\n",
       "      <td>83.277487</td>\n",
       "      <td>83.094697</td>\n",
       "    </tr>\n",
       "  </tbody>\n",
       "</table>\n",
       "</div>"
      ],
      "text/plain": [
       "grade          school_name       10th       11th       12th        9th\n",
       "0       Bailey High School  76.996772  77.515588  76.492218  77.083676\n",
       "1      Cabrera High School  83.154506  82.765560  83.277487  83.094697"
      ]
     },
     "execution_count": 136,
     "metadata": {},
     "output_type": "execute_result"
    }
   ],
   "source": [
    "math_pivot = school_math_df.pivot(index='school_name',columns='grade', values='math_score')\n",
    "math_pivot=math_pivot.reset_index()\n",
    "math_pivot.head(2)"
   ]
  },
  {
   "cell_type": "markdown",
   "metadata": {},
   "source": [
    "# Math Scores By Grade"
   ]
  },
  {
   "cell_type": "code",
   "execution_count": 137,
   "metadata": {
    "collapsed": false
   },
   "outputs": [
    {
     "data": {
      "text/html": [
       "<div>\n",
       "<table border=\"1\" class=\"dataframe\">\n",
       "  <thead>\n",
       "    <tr style=\"text-align: right;\">\n",
       "      <th>grade</th>\n",
       "      <th>school_name</th>\n",
       "      <th>9th</th>\n",
       "      <th>10th</th>\n",
       "      <th>11th</th>\n",
       "      <th>12th</th>\n",
       "    </tr>\n",
       "  </thead>\n",
       "  <tbody>\n",
       "    <tr>\n",
       "      <th>0</th>\n",
       "      <td>Bailey High School</td>\n",
       "      <td>77.083676</td>\n",
       "      <td>76.996772</td>\n",
       "      <td>77.515588</td>\n",
       "      <td>76.492218</td>\n",
       "    </tr>\n",
       "    <tr>\n",
       "      <th>1</th>\n",
       "      <td>Cabrera High School</td>\n",
       "      <td>83.094697</td>\n",
       "      <td>83.154506</td>\n",
       "      <td>82.765560</td>\n",
       "      <td>83.277487</td>\n",
       "    </tr>\n",
       "    <tr>\n",
       "      <th>2</th>\n",
       "      <td>Figueroa High School</td>\n",
       "      <td>76.403037</td>\n",
       "      <td>76.539974</td>\n",
       "      <td>76.884344</td>\n",
       "      <td>77.151369</td>\n",
       "    </tr>\n",
       "    <tr>\n",
       "      <th>3</th>\n",
       "      <td>Ford High School</td>\n",
       "      <td>77.361345</td>\n",
       "      <td>77.672316</td>\n",
       "      <td>76.918058</td>\n",
       "      <td>76.179963</td>\n",
       "    </tr>\n",
       "    <tr>\n",
       "      <th>4</th>\n",
       "      <td>Griffin High School</td>\n",
       "      <td>82.044010</td>\n",
       "      <td>84.229064</td>\n",
       "      <td>83.842105</td>\n",
       "      <td>83.356164</td>\n",
       "    </tr>\n",
       "    <tr>\n",
       "      <th>5</th>\n",
       "      <td>Hernandez High School</td>\n",
       "      <td>77.438495</td>\n",
       "      <td>77.337408</td>\n",
       "      <td>77.136029</td>\n",
       "      <td>77.186567</td>\n",
       "    </tr>\n",
       "    <tr>\n",
       "      <th>6</th>\n",
       "      <td>Holden High School</td>\n",
       "      <td>83.787402</td>\n",
       "      <td>83.429825</td>\n",
       "      <td>85.000000</td>\n",
       "      <td>82.855422</td>\n",
       "    </tr>\n",
       "    <tr>\n",
       "      <th>7</th>\n",
       "      <td>Huang High School</td>\n",
       "      <td>77.027251</td>\n",
       "      <td>75.908735</td>\n",
       "      <td>76.446602</td>\n",
       "      <td>77.225641</td>\n",
       "    </tr>\n",
       "    <tr>\n",
       "      <th>8</th>\n",
       "      <td>Johnson High School</td>\n",
       "      <td>77.187857</td>\n",
       "      <td>76.691117</td>\n",
       "      <td>77.491653</td>\n",
       "      <td>76.863248</td>\n",
       "    </tr>\n",
       "    <tr>\n",
       "      <th>9</th>\n",
       "      <td>Pena High School</td>\n",
       "      <td>83.625455</td>\n",
       "      <td>83.372000</td>\n",
       "      <td>84.328125</td>\n",
       "      <td>84.121547</td>\n",
       "    </tr>\n",
       "    <tr>\n",
       "      <th>10</th>\n",
       "      <td>Rodriguez High School</td>\n",
       "      <td>76.859966</td>\n",
       "      <td>76.612500</td>\n",
       "      <td>76.395626</td>\n",
       "      <td>77.690748</td>\n",
       "    </tr>\n",
       "    <tr>\n",
       "      <th>11</th>\n",
       "      <td>Shelton High School</td>\n",
       "      <td>83.420755</td>\n",
       "      <td>82.917411</td>\n",
       "      <td>83.383495</td>\n",
       "      <td>83.778976</td>\n",
       "    </tr>\n",
       "    <tr>\n",
       "      <th>12</th>\n",
       "      <td>Thomas High School</td>\n",
       "      <td>83.590022</td>\n",
       "      <td>83.087886</td>\n",
       "      <td>83.498795</td>\n",
       "      <td>83.497041</td>\n",
       "    </tr>\n",
       "    <tr>\n",
       "      <th>13</th>\n",
       "      <td>Wilson High School</td>\n",
       "      <td>83.085578</td>\n",
       "      <td>83.724422</td>\n",
       "      <td>83.195326</td>\n",
       "      <td>83.035794</td>\n",
       "    </tr>\n",
       "    <tr>\n",
       "      <th>14</th>\n",
       "      <td>Wright High School</td>\n",
       "      <td>83.264706</td>\n",
       "      <td>84.010288</td>\n",
       "      <td>83.836782</td>\n",
       "      <td>83.644986</td>\n",
       "    </tr>\n",
       "  </tbody>\n",
       "</table>\n",
       "</div>"
      ],
      "text/plain": [
       "grade            school_name        9th       10th       11th       12th\n",
       "0         Bailey High School  77.083676  76.996772  77.515588  76.492218\n",
       "1        Cabrera High School  83.094697  83.154506  82.765560  83.277487\n",
       "2       Figueroa High School  76.403037  76.539974  76.884344  77.151369\n",
       "3           Ford High School  77.361345  77.672316  76.918058  76.179963\n",
       "4        Griffin High School  82.044010  84.229064  83.842105  83.356164\n",
       "5      Hernandez High School  77.438495  77.337408  77.136029  77.186567\n",
       "6         Holden High School  83.787402  83.429825  85.000000  82.855422\n",
       "7          Huang High School  77.027251  75.908735  76.446602  77.225641\n",
       "8        Johnson High School  77.187857  76.691117  77.491653  76.863248\n",
       "9           Pena High School  83.625455  83.372000  84.328125  84.121547\n",
       "10     Rodriguez High School  76.859966  76.612500  76.395626  77.690748\n",
       "11       Shelton High School  83.420755  82.917411  83.383495  83.778976\n",
       "12        Thomas High School  83.590022  83.087886  83.498795  83.497041\n",
       "13        Wilson High School  83.085578  83.724422  83.195326  83.035794\n",
       "14        Wright High School  83.264706  84.010288  83.836782  83.644986"
      ]
     },
     "execution_count": 137,
     "metadata": {},
     "output_type": "execute_result"
    }
   ],
   "source": [
    "math_pivot_ord=math_pivot[['school_name','9th','10th','11th','12th']]\n",
    "math_pivot_ord"
   ]
  },
  {
   "cell_type": "markdown",
   "metadata": {},
   "source": [
    "## Reading Score by Grade "
   ]
  },
  {
   "cell_type": "markdown",
   "metadata": {},
   "source": [
    "* Perform the same operations as above for reading scores"
   ]
  },
  {
   "cell_type": "code",
   "execution_count": 51,
   "metadata": {
    "collapsed": true
   },
   "outputs": [],
   "source": [
    "reading_df=student_data[['school_name','grade','reading_score']]"
   ]
  },
  {
   "cell_type": "code",
   "execution_count": 52,
   "metadata": {
    "collapsed": true
   },
   "outputs": [],
   "source": [
    "reading_school=reading_df.groupby(['school_name','grade'])"
   ]
  },
  {
   "cell_type": "code",
   "execution_count": 53,
   "metadata": {
    "collapsed": false
   },
   "outputs": [
    {
     "data": {
      "text/html": [
       "<div>\n",
       "<table border=\"1\" class=\"dataframe\">\n",
       "  <thead>\n",
       "    <tr style=\"text-align: right;\">\n",
       "      <th></th>\n",
       "      <th>school_name</th>\n",
       "      <th>grade</th>\n",
       "      <th>reading_score</th>\n",
       "    </tr>\n",
       "  </thead>\n",
       "  <tbody>\n",
       "    <tr>\n",
       "      <th>0</th>\n",
       "      <td>Bailey High School</td>\n",
       "      <td>10th</td>\n",
       "      <td>80.907183</td>\n",
       "    </tr>\n",
       "    <tr>\n",
       "      <th>1</th>\n",
       "      <td>Bailey High School</td>\n",
       "      <td>11th</td>\n",
       "      <td>80.945643</td>\n",
       "    </tr>\n",
       "  </tbody>\n",
       "</table>\n",
       "</div>"
      ],
      "text/plain": [
       "          school_name grade  reading_score\n",
       "0  Bailey High School  10th      80.907183\n",
       "1  Bailey High School  11th      80.945643"
      ]
     },
     "execution_count": 53,
     "metadata": {},
     "output_type": "execute_result"
    }
   ],
   "source": [
    "school_reading_df= pd.DataFrame(reading_school['reading_score'].mean())\n",
    "school_reading_df=school_reading_df.reset_index()\n",
    "school_reading_df.head(2)"
   ]
  },
  {
   "cell_type": "code",
   "execution_count": 142,
   "metadata": {
    "collapsed": false
   },
   "outputs": [
    {
     "data": {
      "text/html": [
       "<div>\n",
       "<table border=\"1\" class=\"dataframe\">\n",
       "  <thead>\n",
       "    <tr style=\"text-align: right;\">\n",
       "      <th>grade</th>\n",
       "      <th>school_name</th>\n",
       "      <th>10th</th>\n",
       "      <th>11th</th>\n",
       "      <th>12th</th>\n",
       "      <th>9th</th>\n",
       "    </tr>\n",
       "  </thead>\n",
       "  <tbody>\n",
       "    <tr>\n",
       "      <th>0</th>\n",
       "      <td>Bailey High School</td>\n",
       "      <td>80.907183</td>\n",
       "      <td>80.945643</td>\n",
       "      <td>80.912451</td>\n",
       "      <td>81.303155</td>\n",
       "    </tr>\n",
       "    <tr>\n",
       "      <th>1</th>\n",
       "      <td>Cabrera High School</td>\n",
       "      <td>84.253219</td>\n",
       "      <td>83.788382</td>\n",
       "      <td>84.287958</td>\n",
       "      <td>83.676136</td>\n",
       "    </tr>\n",
       "  </tbody>\n",
       "</table>\n",
       "</div>"
      ],
      "text/plain": [
       "grade          school_name       10th       11th       12th        9th\n",
       "0       Bailey High School  80.907183  80.945643  80.912451  81.303155\n",
       "1      Cabrera High School  84.253219  83.788382  84.287958  83.676136"
      ]
     },
     "execution_count": 142,
     "metadata": {},
     "output_type": "execute_result"
    }
   ],
   "source": [
    "reading_pivot = school_reading_df.pivot(index='school_name',columns='grade', values='reading_score')\n",
    "reading_pivot=reading_pivot.reset_index()\n",
    "reading_pivot.head(2)\n"
   ]
  },
  {
   "cell_type": "code",
   "execution_count": 143,
   "metadata": {
    "collapsed": false
   },
   "outputs": [
    {
     "data": {
      "text/html": [
       "<div>\n",
       "<table border=\"1\" class=\"dataframe\">\n",
       "  <thead>\n",
       "    <tr style=\"text-align: right;\">\n",
       "      <th>grade</th>\n",
       "      <th>school_name</th>\n",
       "      <th>9th</th>\n",
       "      <th>10th</th>\n",
       "      <th>11th</th>\n",
       "      <th>12th</th>\n",
       "    </tr>\n",
       "  </thead>\n",
       "  <tbody>\n",
       "    <tr>\n",
       "      <th>0</th>\n",
       "      <td>Bailey High School</td>\n",
       "      <td>81.303155</td>\n",
       "      <td>80.907183</td>\n",
       "      <td>80.945643</td>\n",
       "      <td>80.912451</td>\n",
       "    </tr>\n",
       "    <tr>\n",
       "      <th>1</th>\n",
       "      <td>Cabrera High School</td>\n",
       "      <td>83.676136</td>\n",
       "      <td>84.253219</td>\n",
       "      <td>83.788382</td>\n",
       "      <td>84.287958</td>\n",
       "    </tr>\n",
       "    <tr>\n",
       "      <th>2</th>\n",
       "      <td>Figueroa High School</td>\n",
       "      <td>81.198598</td>\n",
       "      <td>81.408912</td>\n",
       "      <td>80.640339</td>\n",
       "      <td>81.384863</td>\n",
       "    </tr>\n",
       "    <tr>\n",
       "      <th>3</th>\n",
       "      <td>Ford High School</td>\n",
       "      <td>80.632653</td>\n",
       "      <td>81.262712</td>\n",
       "      <td>80.403642</td>\n",
       "      <td>80.662338</td>\n",
       "    </tr>\n",
       "    <tr>\n",
       "      <th>4</th>\n",
       "      <td>Griffin High School</td>\n",
       "      <td>83.369193</td>\n",
       "      <td>83.706897</td>\n",
       "      <td>84.288089</td>\n",
       "      <td>84.013699</td>\n",
       "    </tr>\n",
       "    <tr>\n",
       "      <th>5</th>\n",
       "      <td>Hernandez High School</td>\n",
       "      <td>80.866860</td>\n",
       "      <td>80.660147</td>\n",
       "      <td>81.396140</td>\n",
       "      <td>80.857143</td>\n",
       "    </tr>\n",
       "    <tr>\n",
       "      <th>6</th>\n",
       "      <td>Holden High School</td>\n",
       "      <td>83.677165</td>\n",
       "      <td>83.324561</td>\n",
       "      <td>83.815534</td>\n",
       "      <td>84.698795</td>\n",
       "    </tr>\n",
       "    <tr>\n",
       "      <th>7</th>\n",
       "      <td>Huang High School</td>\n",
       "      <td>81.290284</td>\n",
       "      <td>81.512386</td>\n",
       "      <td>81.417476</td>\n",
       "      <td>80.305983</td>\n",
       "    </tr>\n",
       "    <tr>\n",
       "      <th>8</th>\n",
       "      <td>Johnson High School</td>\n",
       "      <td>81.260714</td>\n",
       "      <td>80.773431</td>\n",
       "      <td>80.616027</td>\n",
       "      <td>81.227564</td>\n",
       "    </tr>\n",
       "    <tr>\n",
       "      <th>9</th>\n",
       "      <td>Pena High School</td>\n",
       "      <td>83.807273</td>\n",
       "      <td>83.612000</td>\n",
       "      <td>84.335938</td>\n",
       "      <td>84.591160</td>\n",
       "    </tr>\n",
       "    <tr>\n",
       "      <th>10</th>\n",
       "      <td>Rodriguez High School</td>\n",
       "      <td>80.993127</td>\n",
       "      <td>80.629808</td>\n",
       "      <td>80.864811</td>\n",
       "      <td>80.376426</td>\n",
       "    </tr>\n",
       "    <tr>\n",
       "      <th>11</th>\n",
       "      <td>Shelton High School</td>\n",
       "      <td>84.122642</td>\n",
       "      <td>83.441964</td>\n",
       "      <td>84.373786</td>\n",
       "      <td>82.781671</td>\n",
       "    </tr>\n",
       "    <tr>\n",
       "      <th>12</th>\n",
       "      <td>Thomas High School</td>\n",
       "      <td>83.728850</td>\n",
       "      <td>84.254157</td>\n",
       "      <td>83.585542</td>\n",
       "      <td>83.831361</td>\n",
       "    </tr>\n",
       "    <tr>\n",
       "      <th>13</th>\n",
       "      <td>Wilson High School</td>\n",
       "      <td>83.939778</td>\n",
       "      <td>84.021452</td>\n",
       "      <td>83.764608</td>\n",
       "      <td>84.317673</td>\n",
       "    </tr>\n",
       "    <tr>\n",
       "      <th>14</th>\n",
       "      <td>Wright High School</td>\n",
       "      <td>83.833333</td>\n",
       "      <td>83.812757</td>\n",
       "      <td>84.156322</td>\n",
       "      <td>84.073171</td>\n",
       "    </tr>\n",
       "  </tbody>\n",
       "</table>\n",
       "</div>"
      ],
      "text/plain": [
       "grade            school_name        9th       10th       11th       12th\n",
       "0         Bailey High School  81.303155  80.907183  80.945643  80.912451\n",
       "1        Cabrera High School  83.676136  84.253219  83.788382  84.287958\n",
       "2       Figueroa High School  81.198598  81.408912  80.640339  81.384863\n",
       "3           Ford High School  80.632653  81.262712  80.403642  80.662338\n",
       "4        Griffin High School  83.369193  83.706897  84.288089  84.013699\n",
       "5      Hernandez High School  80.866860  80.660147  81.396140  80.857143\n",
       "6         Holden High School  83.677165  83.324561  83.815534  84.698795\n",
       "7          Huang High School  81.290284  81.512386  81.417476  80.305983\n",
       "8        Johnson High School  81.260714  80.773431  80.616027  81.227564\n",
       "9           Pena High School  83.807273  83.612000  84.335938  84.591160\n",
       "10     Rodriguez High School  80.993127  80.629808  80.864811  80.376426\n",
       "11       Shelton High School  84.122642  83.441964  84.373786  82.781671\n",
       "12        Thomas High School  83.728850  84.254157  83.585542  83.831361\n",
       "13        Wilson High School  83.939778  84.021452  83.764608  84.317673\n",
       "14        Wright High School  83.833333  83.812757  84.156322  84.073171"
      ]
     },
     "execution_count": 143,
     "metadata": {},
     "output_type": "execute_result"
    }
   ],
   "source": [
    "reading_pivot_ord=reading_pivot[['school_name','9th','10th','11th','12th']]\n",
    "\n",
    "reading_pivot_ord"
   ]
  },
  {
   "cell_type": "markdown",
   "metadata": {},
   "source": [
    "## Scores by School Spending"
   ]
  },
  {
   "cell_type": "markdown",
   "metadata": {},
   "source": [
    "* Create a table that breaks down school performances based on average Spending Ranges (Per Student). Use 4 reasonable bins to group school spending. Include in the table each of the following:\n",
    "  * Average Math Score\n",
    "  * Average Reading Score\n",
    "  * % Passing Math\n",
    "  * % Passing Reading\n",
    "  * Overall Passing Rate (Average of the above two)"
   ]
  },
  {
   "cell_type": "code",
   "execution_count": 56,
   "metadata": {
    "collapsed": false
   },
   "outputs": [
    {
     "data": {
      "text/html": [
       "<div>\n",
       "<table border=\"1\" class=\"dataframe\">\n",
       "  <thead>\n",
       "    <tr style=\"text-align: right;\">\n",
       "      <th></th>\n",
       "      <th>school_name</th>\n",
       "      <th>type</th>\n",
       "      <th>Total Students</th>\n",
       "      <th>Total Budget</th>\n",
       "      <th>Per Student Budget</th>\n",
       "      <th>Average Math Score</th>\n",
       "      <th>Average Reading Score</th>\n",
       "      <th>% Passing Math</th>\n",
       "      <th>% Passing Reading</th>\n",
       "      <th>% Overall Passing</th>\n",
       "    </tr>\n",
       "  </thead>\n",
       "  <tbody>\n",
       "    <tr>\n",
       "      <th>0</th>\n",
       "      <td>Bailey High School</td>\n",
       "      <td>District</td>\n",
       "      <td>4976.0</td>\n",
       "      <td>$3,124,928.00</td>\n",
       "      <td>$628.00</td>\n",
       "      <td>77.048432</td>\n",
       "      <td>81.033963</td>\n",
       "      <td>66.680064</td>\n",
       "      <td>81.933280</td>\n",
       "      <td>54.642283</td>\n",
       "    </tr>\n",
       "    <tr>\n",
       "      <th>1</th>\n",
       "      <td>Cabrera High School</td>\n",
       "      <td>Charter</td>\n",
       "      <td>1858.0</td>\n",
       "      <td>$1,081,356.00</td>\n",
       "      <td>$582.00</td>\n",
       "      <td>83.061895</td>\n",
       "      <td>83.975780</td>\n",
       "      <td>94.133477</td>\n",
       "      <td>97.039828</td>\n",
       "      <td>91.334769</td>\n",
       "    </tr>\n",
       "  </tbody>\n",
       "</table>\n",
       "</div>"
      ],
      "text/plain": [
       "           school_name      type  Total Students   Total Budget  \\\n",
       "0   Bailey High School  District          4976.0  $3,124,928.00   \n",
       "1  Cabrera High School   Charter          1858.0  $1,081,356.00   \n",
       "\n",
       "  Per Student Budget  Average Math Score  Average Reading Score  \\\n",
       "0            $628.00           77.048432              81.033963   \n",
       "1            $582.00           83.061895              83.975780   \n",
       "\n",
       "   % Passing Math  % Passing Reading  % Overall Passing  \n",
       "0       66.680064          81.933280          54.642283  \n",
       "1       94.133477          97.039828          91.334769  "
      ]
     },
     "execution_count": 56,
     "metadata": {},
     "output_type": "execute_result"
    }
   ],
   "source": [
    "school_summary.head(2)"
   ]
  },
  {
   "cell_type": "code",
   "execution_count": 57,
   "metadata": {
    "collapsed": false
   },
   "outputs": [
    {
     "data": {
      "text/html": [
       "<div>\n",
       "<table border=\"1\" class=\"dataframe\">\n",
       "  <thead>\n",
       "    <tr style=\"text-align: right;\">\n",
       "      <th></th>\n",
       "      <th>Per Student Budget</th>\n",
       "      <th>Average Math Score</th>\n",
       "      <th>Average Reading Score</th>\n",
       "      <th>% Passing Math</th>\n",
       "      <th>% Passing Reading</th>\n",
       "      <th>% Overall Passing</th>\n",
       "    </tr>\n",
       "  </thead>\n",
       "  <tbody>\n",
       "    <tr>\n",
       "      <th>0</th>\n",
       "      <td>$628.00</td>\n",
       "      <td>77.048432</td>\n",
       "      <td>81.033963</td>\n",
       "      <td>66.680064</td>\n",
       "      <td>81.933280</td>\n",
       "      <td>54.642283</td>\n",
       "    </tr>\n",
       "    <tr>\n",
       "      <th>1</th>\n",
       "      <td>$582.00</td>\n",
       "      <td>83.061895</td>\n",
       "      <td>83.975780</td>\n",
       "      <td>94.133477</td>\n",
       "      <td>97.039828</td>\n",
       "      <td>91.334769</td>\n",
       "    </tr>\n",
       "  </tbody>\n",
       "</table>\n",
       "</div>"
      ],
      "text/plain": [
       "  Per Student Budget  Average Math Score  Average Reading Score  \\\n",
       "0            $628.00           77.048432              81.033963   \n",
       "1            $582.00           83.061895              83.975780   \n",
       "\n",
       "   % Passing Math  % Passing Reading  % Overall Passing  \n",
       "0       66.680064          81.933280          54.642283  \n",
       "1       94.133477          97.039828          91.334769  "
      ]
     },
     "execution_count": 57,
     "metadata": {},
     "output_type": "execute_result"
    }
   ],
   "source": [
    "school_spending=school_summary[['Per Student Budget','Average Math Score','Average Reading Score',\\\n",
    "                                '% Passing Math','% Passing Reading','% Overall Passing']]\n",
    "school_spending.head(2)"
   ]
  },
  {
   "cell_type": "code",
   "execution_count": 58,
   "metadata": {
    "collapsed": false
   },
   "outputs": [
    {
     "name": "stderr",
     "output_type": "stream",
     "text": [
      "C:\\Users\\sumita\\Anaconda3\\lib\\site-packages\\ipykernel\\__main__.py:1: SettingWithCopyWarning: \n",
      "A value is trying to be set on a copy of a slice from a DataFrame.\n",
      "Try using .loc[row_indexer,col_indexer] = value instead\n",
      "\n",
      "See the caveats in the documentation: http://pandas.pydata.org/pandas-docs/stable/indexing.html#indexing-view-versus-copy\n",
      "  if __name__ == '__main__':\n"
     ]
    }
   ],
   "source": [
    "school_spending['Per Student Budget']=school_spending['Per Student Budget'].replace('[\\$,]','', regex=True).astype(float)\n"
   ]
  },
  {
   "cell_type": "code",
   "execution_count": 59,
   "metadata": {
    "collapsed": false
   },
   "outputs": [
    {
     "data": {
      "text/html": [
       "<div>\n",
       "<table border=\"1\" class=\"dataframe\">\n",
       "  <thead>\n",
       "    <tr style=\"text-align: right;\">\n",
       "      <th></th>\n",
       "      <th>Per Student Budget</th>\n",
       "      <th>Average Math Score</th>\n",
       "      <th>Average Reading Score</th>\n",
       "      <th>% Passing Math</th>\n",
       "      <th>% Passing Reading</th>\n",
       "      <th>% Overall Passing</th>\n",
       "    </tr>\n",
       "  </thead>\n",
       "  <tbody>\n",
       "    <tr>\n",
       "      <th>0</th>\n",
       "      <td>628.0</td>\n",
       "      <td>77.048432</td>\n",
       "      <td>81.033963</td>\n",
       "      <td>66.680064</td>\n",
       "      <td>81.933280</td>\n",
       "      <td>54.642283</td>\n",
       "    </tr>\n",
       "    <tr>\n",
       "      <th>1</th>\n",
       "      <td>582.0</td>\n",
       "      <td>83.061895</td>\n",
       "      <td>83.975780</td>\n",
       "      <td>94.133477</td>\n",
       "      <td>97.039828</td>\n",
       "      <td>91.334769</td>\n",
       "    </tr>\n",
       "  </tbody>\n",
       "</table>\n",
       "</div>"
      ],
      "text/plain": [
       "   Per Student Budget  Average Math Score  Average Reading Score  \\\n",
       "0               628.0           77.048432              81.033963   \n",
       "1               582.0           83.061895              83.975780   \n",
       "\n",
       "   % Passing Math  % Passing Reading  % Overall Passing  \n",
       "0       66.680064          81.933280          54.642283  \n",
       "1       94.133477          97.039828          91.334769  "
      ]
     },
     "execution_count": 59,
     "metadata": {},
     "output_type": "execute_result"
    }
   ],
   "source": [
    "school_spending.head(2)"
   ]
  },
  {
   "cell_type": "code",
   "execution_count": 189,
   "metadata": {
    "collapsed": false
   },
   "outputs": [
    {
     "name": "stderr",
     "output_type": "stream",
     "text": [
      "C:\\Users\\sumita\\Anaconda3\\lib\\site-packages\\ipykernel\\__main__.py:8: SettingWithCopyWarning: \n",
      "A value is trying to be set on a copy of a slice from a DataFrame.\n",
      "Try using .loc[row_indexer,col_indexer] = value instead\n",
      "\n",
      "See the caveats in the documentation: http://pandas.pydata.org/pandas-docs/stable/indexing.html#indexing-view-versus-copy\n"
     ]
    },
    {
     "data": {
      "text/html": [
       "<div>\n",
       "<table border=\"1\" class=\"dataframe\">\n",
       "  <thead>\n",
       "    <tr style=\"text-align: right;\">\n",
       "      <th></th>\n",
       "      <th>Per Student Budget</th>\n",
       "      <th>Average Math Score</th>\n",
       "      <th>Average Reading Score</th>\n",
       "      <th>% Passing Math</th>\n",
       "      <th>% Passing Reading</th>\n",
       "      <th>% Overall Passing</th>\n",
       "      <th>Budget_Bins</th>\n",
       "    </tr>\n",
       "  </thead>\n",
       "  <tbody>\n",
       "    <tr>\n",
       "      <th>0</th>\n",
       "      <td>628.0</td>\n",
       "      <td>77.048432</td>\n",
       "      <td>81.033963</td>\n",
       "      <td>66.680064</td>\n",
       "      <td>81.933280</td>\n",
       "      <td>54.642283</td>\n",
       "      <td>$585-629</td>\n",
       "    </tr>\n",
       "    <tr>\n",
       "      <th>1</th>\n",
       "      <td>582.0</td>\n",
       "      <td>83.061895</td>\n",
       "      <td>83.975780</td>\n",
       "      <td>94.133477</td>\n",
       "      <td>97.039828</td>\n",
       "      <td>91.334769</td>\n",
       "      <td>&lt; 584</td>\n",
       "    </tr>\n",
       "    <tr>\n",
       "      <th>2</th>\n",
       "      <td>639.0</td>\n",
       "      <td>76.711767</td>\n",
       "      <td>81.158020</td>\n",
       "      <td>65.988471</td>\n",
       "      <td>80.739234</td>\n",
       "      <td>53.204476</td>\n",
       "      <td>$630-644</td>\n",
       "    </tr>\n",
       "    <tr>\n",
       "      <th>3</th>\n",
       "      <td>644.0</td>\n",
       "      <td>77.102592</td>\n",
       "      <td>80.746258</td>\n",
       "      <td>68.309602</td>\n",
       "      <td>79.299014</td>\n",
       "      <td>54.289887</td>\n",
       "      <td>$630-644</td>\n",
       "    </tr>\n",
       "    <tr>\n",
       "      <th>4</th>\n",
       "      <td>625.0</td>\n",
       "      <td>83.351499</td>\n",
       "      <td>83.816757</td>\n",
       "      <td>93.392371</td>\n",
       "      <td>97.138965</td>\n",
       "      <td>90.599455</td>\n",
       "      <td>$585-629</td>\n",
       "    </tr>\n",
       "  </tbody>\n",
       "</table>\n",
       "</div>"
      ],
      "text/plain": [
       "   Per Student Budget  Average Math Score  Average Reading Score  \\\n",
       "0               628.0           77.048432              81.033963   \n",
       "1               582.0           83.061895              83.975780   \n",
       "2               639.0           76.711767              81.158020   \n",
       "3               644.0           77.102592              80.746258   \n",
       "4               625.0           83.351499              83.816757   \n",
       "\n",
       "   % Passing Math  % Passing Reading  % Overall Passing Budget_Bins  \n",
       "0       66.680064          81.933280          54.642283    $585-629  \n",
       "1       94.133477          97.039828          91.334769       < 584  \n",
       "2       65.988471          80.739234          53.204476    $630-644  \n",
       "3       68.309602          79.299014          54.289887    $630-644  \n",
       "4       93.392371          97.138965          90.599455    $585-629  "
      ]
     },
     "execution_count": 189,
     "metadata": {},
     "output_type": "execute_result"
    }
   ],
   "source": [
    "# Create bins in which to place values based \n",
    "bins = [0, 585, 630, 645, 675]\n",
    "# Create labels for these bins\n",
    "\n",
    "group_labels = [\"< 584\", \"$585-629\", \"$630-644\", \"$645-675\"]\n",
    "# Slice the data and place it into bins\n",
    "#pd.cut(school_spending[\"Per Student Budget_T\"], bins, labels=group_labels).head()\n",
    "school_spending['Budget_Bins']=pd.cut(school_spending[\"Per Student Budget\"], bins, labels=group_labels)\n",
    "school_spending.head()"
   ]
  },
  {
   "cell_type": "code",
   "execution_count": 190,
   "metadata": {
    "collapsed": true
   },
   "outputs": [],
   "source": [
    "# Create a GroupBy object based upon \"View Group\"\n",
    "budget_group = school_spending.groupby(\"Budget_Bins\")"
   ]
  },
  {
   "cell_type": "code",
   "execution_count": 191,
   "metadata": {
    "collapsed": false
   },
   "outputs": [
    {
     "data": {
      "text/html": [
       "<div>\n",
       "<table border=\"1\" class=\"dataframe\">\n",
       "  <thead>\n",
       "    <tr style=\"text-align: right;\">\n",
       "      <th></th>\n",
       "      <th>Budget_Bins</th>\n",
       "      <th>Average Math Score</th>\n",
       "    </tr>\n",
       "  </thead>\n",
       "  <tbody>\n",
       "    <tr>\n",
       "      <th>0</th>\n",
       "      <td>&lt; 584</td>\n",
       "      <td>83.46</td>\n",
       "    </tr>\n",
       "    <tr>\n",
       "      <th>1</th>\n",
       "      <td>$585-629</td>\n",
       "      <td>81.90</td>\n",
       "    </tr>\n",
       "    <tr>\n",
       "      <th>2</th>\n",
       "      <td>$630-644</td>\n",
       "      <td>78.52</td>\n",
       "    </tr>\n",
       "    <tr>\n",
       "      <th>3</th>\n",
       "      <td>$645-675</td>\n",
       "      <td>77.00</td>\n",
       "    </tr>\n",
       "  </tbody>\n",
       "</table>\n",
       "</div>"
      ],
      "text/plain": [
       "  Budget_Bins  Average Math Score\n",
       "0       < 584               83.46\n",
       "1    $585-629               81.90\n",
       "2    $630-644               78.52\n",
       "3    $645-675               77.00"
      ]
     },
     "execution_count": 191,
     "metadata": {},
     "output_type": "execute_result"
    }
   ],
   "source": [
    "budget_math_score_df = pd.DataFrame(budget_group['Average Math Score'].mean())\n",
    "budget_math_score_df = round(budget_math_score_df['Average Math Score'],2)\n",
    "\n",
    "budget_math_score_df=budget_math_score_df.reset_index()\n",
    "budget_math_score_df.head()"
   ]
  },
  {
   "cell_type": "code",
   "execution_count": 192,
   "metadata": {
    "collapsed": false
   },
   "outputs": [
    {
     "data": {
      "text/html": [
       "<div>\n",
       "<table border=\"1\" class=\"dataframe\">\n",
       "  <thead>\n",
       "    <tr style=\"text-align: right;\">\n",
       "      <th></th>\n",
       "      <th>Budget_Bins</th>\n",
       "      <th>Average Math Score</th>\n",
       "    </tr>\n",
       "  </thead>\n",
       "  <tbody>\n",
       "    <tr>\n",
       "      <th>0</th>\n",
       "      <td>&lt; 584</td>\n",
       "      <td>83.46</td>\n",
       "    </tr>\n",
       "    <tr>\n",
       "      <th>1</th>\n",
       "      <td>$585-629</td>\n",
       "      <td>81.90</td>\n",
       "    </tr>\n",
       "    <tr>\n",
       "      <th>2</th>\n",
       "      <td>$630-644</td>\n",
       "      <td>78.52</td>\n",
       "    </tr>\n",
       "    <tr>\n",
       "      <th>3</th>\n",
       "      <td>$645-675</td>\n",
       "      <td>77.00</td>\n",
       "    </tr>\n",
       "  </tbody>\n",
       "</table>\n",
       "</div>"
      ],
      "text/plain": [
       "  Budget_Bins  Average Math Score\n",
       "0       < 584               83.46\n",
       "1    $585-629               81.90\n",
       "2    $630-644               78.52\n",
       "3    $645-675               77.00"
      ]
     },
     "execution_count": 192,
     "metadata": {},
     "output_type": "execute_result"
    }
   ],
   "source": [
    "#Create summary df too columns\n",
    "spending_sumary_df=budget_math_score_df\n",
    "spending_sumary_df.head()"
   ]
  },
  {
   "cell_type": "code",
   "execution_count": 193,
   "metadata": {
    "collapsed": false
   },
   "outputs": [
    {
     "data": {
      "text/html": [
       "<div>\n",
       "<table border=\"1\" class=\"dataframe\">\n",
       "  <thead>\n",
       "    <tr style=\"text-align: right;\">\n",
       "      <th></th>\n",
       "      <th>Budget_Bins</th>\n",
       "      <th>Average Reading Score</th>\n",
       "    </tr>\n",
       "  </thead>\n",
       "  <tbody>\n",
       "    <tr>\n",
       "      <th>0</th>\n",
       "      <td>&lt; 584</td>\n",
       "      <td>83.93</td>\n",
       "    </tr>\n",
       "    <tr>\n",
       "      <th>1</th>\n",
       "      <td>$585-629</td>\n",
       "      <td>83.16</td>\n",
       "    </tr>\n",
       "    <tr>\n",
       "      <th>2</th>\n",
       "      <td>$630-644</td>\n",
       "      <td>81.62</td>\n",
       "    </tr>\n",
       "    <tr>\n",
       "      <th>3</th>\n",
       "      <td>$645-675</td>\n",
       "      <td>81.03</td>\n",
       "    </tr>\n",
       "  </tbody>\n",
       "</table>\n",
       "</div>"
      ],
      "text/plain": [
       "  Budget_Bins  Average Reading Score\n",
       "0       < 584                  83.93\n",
       "1    $585-629                  83.16\n",
       "2    $630-644                  81.62\n",
       "3    $645-675                  81.03"
      ]
     },
     "execution_count": 193,
     "metadata": {},
     "output_type": "execute_result"
    }
   ],
   "source": [
    "budget_reading_score_df = pd.DataFrame(budget_group['Average Reading Score'].mean())\n",
    "budget_reading_score_df = round(budget_reading_score_df['Average Reading Score'],2)\n",
    "budget_reading_score_df=budget_reading_score_df.reset_index()\n",
    "budget_reading_score_df.head()"
   ]
  },
  {
   "cell_type": "code",
   "execution_count": 195,
   "metadata": {
    "collapsed": false
   },
   "outputs": [
    {
     "data": {
      "text/html": [
       "<div>\n",
       "<table border=\"1\" class=\"dataframe\">\n",
       "  <thead>\n",
       "    <tr style=\"text-align: right;\">\n",
       "      <th></th>\n",
       "      <th>Budget_Bins</th>\n",
       "      <th>Average Math Score</th>\n",
       "      <th>Average Reading Score</th>\n",
       "    </tr>\n",
       "  </thead>\n",
       "  <tbody>\n",
       "    <tr>\n",
       "      <th>0</th>\n",
       "      <td>&lt; 584</td>\n",
       "      <td>83.46</td>\n",
       "      <td>83.93</td>\n",
       "    </tr>\n",
       "    <tr>\n",
       "      <th>1</th>\n",
       "      <td>$585-629</td>\n",
       "      <td>81.90</td>\n",
       "      <td>83.16</td>\n",
       "    </tr>\n",
       "    <tr>\n",
       "      <th>2</th>\n",
       "      <td>$630-644</td>\n",
       "      <td>78.52</td>\n",
       "      <td>81.62</td>\n",
       "    </tr>\n",
       "    <tr>\n",
       "      <th>3</th>\n",
       "      <td>$645-675</td>\n",
       "      <td>77.00</td>\n",
       "      <td>81.03</td>\n",
       "    </tr>\n",
       "  </tbody>\n",
       "</table>\n",
       "</div>"
      ],
      "text/plain": [
       "  Budget_Bins  Average Math Score  Average Reading Score\n",
       "0       < 584               83.46                  83.93\n",
       "1    $585-629               81.90                  83.16\n",
       "2    $630-644               78.52                  81.62\n",
       "3    $645-675               77.00                  81.03"
      ]
     },
     "execution_count": 195,
     "metadata": {},
     "output_type": "execute_result"
    }
   ],
   "source": [
    "spending_sumary_df['Average Reading Score']=budget_reading_score_df['Average Reading Score']\n",
    "spending_sumary_df.head()"
   ]
  },
  {
   "cell_type": "code",
   "execution_count": 196,
   "metadata": {
    "collapsed": false
   },
   "outputs": [
    {
     "data": {
      "text/html": [
       "<div>\n",
       "<table border=\"1\" class=\"dataframe\">\n",
       "  <thead>\n",
       "    <tr style=\"text-align: right;\">\n",
       "      <th></th>\n",
       "      <th>Budget_Bins</th>\n",
       "      <th>% Passing Math</th>\n",
       "    </tr>\n",
       "  </thead>\n",
       "  <tbody>\n",
       "    <tr>\n",
       "      <th>0</th>\n",
       "      <td>&lt; 584</td>\n",
       "      <td>93.46</td>\n",
       "    </tr>\n",
       "    <tr>\n",
       "      <th>1</th>\n",
       "      <td>$585-629</td>\n",
       "      <td>87.13</td>\n",
       "    </tr>\n",
       "    <tr>\n",
       "      <th>2</th>\n",
       "      <td>$630-644</td>\n",
       "      <td>73.48</td>\n",
       "    </tr>\n",
       "    <tr>\n",
       "      <th>3</th>\n",
       "      <td>$645-675</td>\n",
       "      <td>66.16</td>\n",
       "    </tr>\n",
       "  </tbody>\n",
       "</table>\n",
       "</div>"
      ],
      "text/plain": [
       "  Budget_Bins  % Passing Math\n",
       "0       < 584           93.46\n",
       "1    $585-629           87.13\n",
       "2    $630-644           73.48\n",
       "3    $645-675           66.16"
      ]
     },
     "execution_count": 196,
     "metadata": {},
     "output_type": "execute_result"
    }
   ],
   "source": [
    "budget_math_pass_df = pd.DataFrame(budget_group['% Passing Math'].mean())\n",
    "budget_math_pass_df = round(budget_math_pass_df['% Passing Math'],2)\n",
    "budget_math_pass_df=budget_math_pass_df.reset_index()\n",
    "budget_math_pass_df.head()"
   ]
  },
  {
   "cell_type": "code",
   "execution_count": 197,
   "metadata": {
    "collapsed": false
   },
   "outputs": [
    {
     "data": {
      "text/html": [
       "<div>\n",
       "<table border=\"1\" class=\"dataframe\">\n",
       "  <thead>\n",
       "    <tr style=\"text-align: right;\">\n",
       "      <th></th>\n",
       "      <th>Budget_Bins</th>\n",
       "      <th>Average Math Score</th>\n",
       "      <th>Average Reading Score</th>\n",
       "      <th>% Passing Math</th>\n",
       "    </tr>\n",
       "  </thead>\n",
       "  <tbody>\n",
       "    <tr>\n",
       "      <th>0</th>\n",
       "      <td>&lt; 584</td>\n",
       "      <td>83.46</td>\n",
       "      <td>83.93</td>\n",
       "      <td>93.46</td>\n",
       "    </tr>\n",
       "    <tr>\n",
       "      <th>1</th>\n",
       "      <td>$585-629</td>\n",
       "      <td>81.90</td>\n",
       "      <td>83.16</td>\n",
       "      <td>87.13</td>\n",
       "    </tr>\n",
       "    <tr>\n",
       "      <th>2</th>\n",
       "      <td>$630-644</td>\n",
       "      <td>78.52</td>\n",
       "      <td>81.62</td>\n",
       "      <td>73.48</td>\n",
       "    </tr>\n",
       "    <tr>\n",
       "      <th>3</th>\n",
       "      <td>$645-675</td>\n",
       "      <td>77.00</td>\n",
       "      <td>81.03</td>\n",
       "      <td>66.16</td>\n",
       "    </tr>\n",
       "  </tbody>\n",
       "</table>\n",
       "</div>"
      ],
      "text/plain": [
       "  Budget_Bins  Average Math Score  Average Reading Score  % Passing Math\n",
       "0       < 584               83.46                  83.93           93.46\n",
       "1    $585-629               81.90                  83.16           87.13\n",
       "2    $630-644               78.52                  81.62           73.48\n",
       "3    $645-675               77.00                  81.03           66.16"
      ]
     },
     "execution_count": 197,
     "metadata": {},
     "output_type": "execute_result"
    }
   ],
   "source": [
    "spending_sumary_df['% Passing Math']=budget_math_pass_df['% Passing Math']\n",
    "spending_sumary_df.head()"
   ]
  },
  {
   "cell_type": "code",
   "execution_count": 198,
   "metadata": {
    "collapsed": false
   },
   "outputs": [
    {
     "data": {
      "text/html": [
       "<div>\n",
       "<table border=\"1\" class=\"dataframe\">\n",
       "  <thead>\n",
       "    <tr style=\"text-align: right;\">\n",
       "      <th></th>\n",
       "      <th>Budget_Bins</th>\n",
       "      <th>% Passing Reading</th>\n",
       "    </tr>\n",
       "  </thead>\n",
       "  <tbody>\n",
       "    <tr>\n",
       "      <th>0</th>\n",
       "      <td>&lt; 584</td>\n",
       "      <td>96.61</td>\n",
       "    </tr>\n",
       "    <tr>\n",
       "      <th>1</th>\n",
       "      <td>$585-629</td>\n",
       "      <td>92.72</td>\n",
       "    </tr>\n",
       "    <tr>\n",
       "      <th>2</th>\n",
       "      <td>$630-644</td>\n",
       "      <td>84.39</td>\n",
       "    </tr>\n",
       "    <tr>\n",
       "      <th>3</th>\n",
       "      <td>$645-675</td>\n",
       "      <td>81.13</td>\n",
       "    </tr>\n",
       "  </tbody>\n",
       "</table>\n",
       "</div>"
      ],
      "text/plain": [
       "  Budget_Bins  % Passing Reading\n",
       "0       < 584              96.61\n",
       "1    $585-629              92.72\n",
       "2    $630-644              84.39\n",
       "3    $645-675              81.13"
      ]
     },
     "execution_count": 198,
     "metadata": {},
     "output_type": "execute_result"
    }
   ],
   "source": [
    "budget_reading_pass_df = pd.DataFrame(budget_group['% Passing Reading'].mean())\n",
    "budget_reading_pass_df = round(budget_reading_pass_df['% Passing Reading'],2)\n",
    "budget_reading_pass_df=budget_reading_pass_df.reset_index()\n",
    "budget_reading_pass_df.head()"
   ]
  },
  {
   "cell_type": "code",
   "execution_count": 199,
   "metadata": {
    "collapsed": false
   },
   "outputs": [
    {
     "data": {
      "text/html": [
       "<div>\n",
       "<table border=\"1\" class=\"dataframe\">\n",
       "  <thead>\n",
       "    <tr style=\"text-align: right;\">\n",
       "      <th></th>\n",
       "      <th>Budget_Bins</th>\n",
       "      <th>Average Math Score</th>\n",
       "      <th>Average Reading Score</th>\n",
       "      <th>% Passing Math</th>\n",
       "      <th>% Passing Reading</th>\n",
       "    </tr>\n",
       "  </thead>\n",
       "  <tbody>\n",
       "    <tr>\n",
       "      <th>0</th>\n",
       "      <td>&lt; 584</td>\n",
       "      <td>83.46</td>\n",
       "      <td>83.93</td>\n",
       "      <td>93.46</td>\n",
       "      <td>96.61</td>\n",
       "    </tr>\n",
       "    <tr>\n",
       "      <th>1</th>\n",
       "      <td>$585-629</td>\n",
       "      <td>81.90</td>\n",
       "      <td>83.16</td>\n",
       "      <td>87.13</td>\n",
       "      <td>92.72</td>\n",
       "    </tr>\n",
       "    <tr>\n",
       "      <th>2</th>\n",
       "      <td>$630-644</td>\n",
       "      <td>78.52</td>\n",
       "      <td>81.62</td>\n",
       "      <td>73.48</td>\n",
       "      <td>84.39</td>\n",
       "    </tr>\n",
       "    <tr>\n",
       "      <th>3</th>\n",
       "      <td>$645-675</td>\n",
       "      <td>77.00</td>\n",
       "      <td>81.03</td>\n",
       "      <td>66.16</td>\n",
       "      <td>81.13</td>\n",
       "    </tr>\n",
       "  </tbody>\n",
       "</table>\n",
       "</div>"
      ],
      "text/plain": [
       "  Budget_Bins  Average Math Score  Average Reading Score  % Passing Math  \\\n",
       "0       < 584               83.46                  83.93           93.46   \n",
       "1    $585-629               81.90                  83.16           87.13   \n",
       "2    $630-644               78.52                  81.62           73.48   \n",
       "3    $645-675               77.00                  81.03           66.16   \n",
       "\n",
       "   % Passing Reading  \n",
       "0              96.61  \n",
       "1              92.72  \n",
       "2              84.39  \n",
       "3              81.13  "
      ]
     },
     "execution_count": 199,
     "metadata": {},
     "output_type": "execute_result"
    }
   ],
   "source": [
    "spending_sumary_df['% Passing Reading']=budget_reading_pass_df['% Passing Reading']\n",
    "spending_sumary_df.head()"
   ]
  },
  {
   "cell_type": "code",
   "execution_count": 200,
   "metadata": {
    "collapsed": false
   },
   "outputs": [
    {
     "data": {
      "text/html": [
       "<div>\n",
       "<table border=\"1\" class=\"dataframe\">\n",
       "  <thead>\n",
       "    <tr style=\"text-align: right;\">\n",
       "      <th></th>\n",
       "      <th>Budget_Bins</th>\n",
       "      <th>% Overall Passing</th>\n",
       "    </tr>\n",
       "  </thead>\n",
       "  <tbody>\n",
       "    <tr>\n",
       "      <th>0</th>\n",
       "      <td>&lt; 584</td>\n",
       "      <td>90.37</td>\n",
       "    </tr>\n",
       "    <tr>\n",
       "      <th>1</th>\n",
       "      <td>$585-629</td>\n",
       "      <td>81.42</td>\n",
       "    </tr>\n",
       "    <tr>\n",
       "      <th>2</th>\n",
       "      <td>$630-644</td>\n",
       "      <td>62.86</td>\n",
       "    </tr>\n",
       "    <tr>\n",
       "      <th>3</th>\n",
       "      <td>$645-675</td>\n",
       "      <td>53.53</td>\n",
       "    </tr>\n",
       "  </tbody>\n",
       "</table>\n",
       "</div>"
      ],
      "text/plain": [
       "  Budget_Bins  % Overall Passing\n",
       "0       < 584              90.37\n",
       "1    $585-629              81.42\n",
       "2    $630-644              62.86\n",
       "3    $645-675              53.53"
      ]
     },
     "execution_count": 200,
     "metadata": {},
     "output_type": "execute_result"
    }
   ],
   "source": [
    "budget_overall_pass_df = pd.DataFrame(budget_group['% Overall Passing'].mean())\n",
    "budget_overall_pass_df = round(budget_overall_pass_df['% Overall Passing'],2)\n",
    "budget_overall_pass_df=budget_overall_pass_df.reset_index()\n",
    "budget_overall_pass_df.head()"
   ]
  },
  {
   "cell_type": "markdown",
   "metadata": {},
   "source": [
    "# Scores by School Spending Output"
   ]
  },
  {
   "cell_type": "code",
   "execution_count": 201,
   "metadata": {
    "collapsed": false
   },
   "outputs": [
    {
     "data": {
      "text/html": [
       "<div>\n",
       "<table border=\"1\" class=\"dataframe\">\n",
       "  <thead>\n",
       "    <tr style=\"text-align: right;\">\n",
       "      <th></th>\n",
       "      <th>Spending Ranges (Per Student)</th>\n",
       "      <th>Average Math Score</th>\n",
       "      <th>Average Reading Score</th>\n",
       "      <th>% Passing Math</th>\n",
       "      <th>% Passing Reading</th>\n",
       "      <th>% Overall Passing</th>\n",
       "    </tr>\n",
       "  </thead>\n",
       "  <tbody>\n",
       "    <tr>\n",
       "      <th>0</th>\n",
       "      <td>&lt; 584</td>\n",
       "      <td>83.46</td>\n",
       "      <td>83.93</td>\n",
       "      <td>93.46</td>\n",
       "      <td>96.61</td>\n",
       "      <td>90.37</td>\n",
       "    </tr>\n",
       "    <tr>\n",
       "      <th>1</th>\n",
       "      <td>$585-629</td>\n",
       "      <td>81.90</td>\n",
       "      <td>83.16</td>\n",
       "      <td>87.13</td>\n",
       "      <td>92.72</td>\n",
       "      <td>81.42</td>\n",
       "    </tr>\n",
       "    <tr>\n",
       "      <th>2</th>\n",
       "      <td>$630-644</td>\n",
       "      <td>78.52</td>\n",
       "      <td>81.62</td>\n",
       "      <td>73.48</td>\n",
       "      <td>84.39</td>\n",
       "      <td>62.86</td>\n",
       "    </tr>\n",
       "    <tr>\n",
       "      <th>3</th>\n",
       "      <td>$645-675</td>\n",
       "      <td>77.00</td>\n",
       "      <td>81.03</td>\n",
       "      <td>66.16</td>\n",
       "      <td>81.13</td>\n",
       "      <td>53.53</td>\n",
       "    </tr>\n",
       "  </tbody>\n",
       "</table>\n",
       "</div>"
      ],
      "text/plain": [
       "  Spending Ranges (Per Student)  Average Math Score  Average Reading Score  \\\n",
       "0                         < 584               83.46                  83.93   \n",
       "1                      $585-629               81.90                  83.16   \n",
       "2                      $630-644               78.52                  81.62   \n",
       "3                      $645-675               77.00                  81.03   \n",
       "\n",
       "   % Passing Math  % Passing Reading  % Overall Passing  \n",
       "0           93.46              96.61              90.37  \n",
       "1           87.13              92.72              81.42  \n",
       "2           73.48              84.39              62.86  \n",
       "3           66.16              81.13              53.53  "
      ]
     },
     "execution_count": 201,
     "metadata": {},
     "output_type": "execute_result"
    }
   ],
   "source": [
    "spending_sumary_df['% Overall Passing']=budget_overall_pass_df['% Overall Passing']\n",
    "spending_sumary_df=spending_sumary_df.rename(columns={'Budget_Bins':\"Spending Ranges (Per Student)\"})\n",
    "spending_sumary_df"
   ]
  },
  {
   "cell_type": "code",
   "execution_count": 202,
   "metadata": {
    "collapsed": false
   },
   "outputs": [
    {
     "data": {
      "text/html": [
       "<div>\n",
       "<table border=\"1\" class=\"dataframe\">\n",
       "  <thead>\n",
       "    <tr style=\"text-align: right;\">\n",
       "      <th></th>\n",
       "      <th>Average Math Score</th>\n",
       "      <th>Average Reading Score</th>\n",
       "      <th>% Passing Math</th>\n",
       "      <th>% Passing Reading</th>\n",
       "      <th>% Overall Passing</th>\n",
       "    </tr>\n",
       "    <tr>\n",
       "      <th>Spending Ranges (Per Student)</th>\n",
       "      <th></th>\n",
       "      <th></th>\n",
       "      <th></th>\n",
       "      <th></th>\n",
       "      <th></th>\n",
       "    </tr>\n",
       "  </thead>\n",
       "  <tbody>\n",
       "    <tr>\n",
       "      <th>&lt; 584</th>\n",
       "      <td>83.46</td>\n",
       "      <td>83.93</td>\n",
       "      <td>93.46</td>\n",
       "      <td>96.61</td>\n",
       "      <td>90.37</td>\n",
       "    </tr>\n",
       "    <tr>\n",
       "      <th>$585-629</th>\n",
       "      <td>81.90</td>\n",
       "      <td>83.16</td>\n",
       "      <td>87.13</td>\n",
       "      <td>92.72</td>\n",
       "      <td>81.42</td>\n",
       "    </tr>\n",
       "    <tr>\n",
       "      <th>$630-644</th>\n",
       "      <td>78.52</td>\n",
       "      <td>81.62</td>\n",
       "      <td>73.48</td>\n",
       "      <td>84.39</td>\n",
       "      <td>62.86</td>\n",
       "    </tr>\n",
       "    <tr>\n",
       "      <th>$645-675</th>\n",
       "      <td>77.00</td>\n",
       "      <td>81.03</td>\n",
       "      <td>66.16</td>\n",
       "      <td>81.13</td>\n",
       "      <td>53.53</td>\n",
       "    </tr>\n",
       "  </tbody>\n",
       "</table>\n",
       "</div>"
      ],
      "text/plain": [
       "                               Average Math Score  Average Reading Score  \\\n",
       "Spending Ranges (Per Student)                                              \n",
       "< 584                                       83.46                  83.93   \n",
       "$585-629                                    81.90                  83.16   \n",
       "$630-644                                    78.52                  81.62   \n",
       "$645-675                                    77.00                  81.03   \n",
       "\n",
       "                               % Passing Math  % Passing Reading  \\\n",
       "Spending Ranges (Per Student)                                      \n",
       "< 584                                   93.46              96.61   \n",
       "$585-629                                87.13              92.72   \n",
       "$630-644                                73.48              84.39   \n",
       "$645-675                                66.16              81.13   \n",
       "\n",
       "                               % Overall Passing  \n",
       "Spending Ranges (Per Student)                     \n",
       "< 584                                      90.37  \n",
       "$585-629                                   81.42  \n",
       "$630-644                                   62.86  \n",
       "$645-675                                   53.53  "
      ]
     },
     "execution_count": 202,
     "metadata": {},
     "output_type": "execute_result"
    }
   ],
   "source": [
    "\n",
    "spending_sumary_df=spending_sumary_df.set_index('Spending Ranges (Per Student)')\n",
    "\n",
    "spending_sumary_df"
   ]
  },
  {
   "cell_type": "markdown",
   "metadata": {},
   "source": [
    "## Scores by School Size"
   ]
  },
  {
   "cell_type": "code",
   "execution_count": 161,
   "metadata": {
    "collapsed": false
   },
   "outputs": [
    {
     "data": {
      "text/html": [
       "<div>\n",
       "<table border=\"1\" class=\"dataframe\">\n",
       "  <thead>\n",
       "    <tr style=\"text-align: right;\">\n",
       "      <th></th>\n",
       "      <th>Total Students</th>\n",
       "      <th>Average Math Score</th>\n",
       "      <th>Average Reading Score</th>\n",
       "      <th>% Passing Math</th>\n",
       "      <th>% Passing Reading</th>\n",
       "      <th>% Overall Passing</th>\n",
       "    </tr>\n",
       "  </thead>\n",
       "  <tbody>\n",
       "    <tr>\n",
       "      <th>0</th>\n",
       "      <td>4976.0</td>\n",
       "      <td>77.048432</td>\n",
       "      <td>81.033963</td>\n",
       "      <td>66.680064</td>\n",
       "      <td>81.933280</td>\n",
       "      <td>54.642283</td>\n",
       "    </tr>\n",
       "    <tr>\n",
       "      <th>1</th>\n",
       "      <td>1858.0</td>\n",
       "      <td>83.061895</td>\n",
       "      <td>83.975780</td>\n",
       "      <td>94.133477</td>\n",
       "      <td>97.039828</td>\n",
       "      <td>91.334769</td>\n",
       "    </tr>\n",
       "  </tbody>\n",
       "</table>\n",
       "</div>"
      ],
      "text/plain": [
       "   Total Students  Average Math Score  Average Reading Score  % Passing Math  \\\n",
       "0          4976.0           77.048432              81.033963       66.680064   \n",
       "1          1858.0           83.061895              83.975780       94.133477   \n",
       "\n",
       "   % Passing Reading  % Overall Passing  \n",
       "0          81.933280          54.642283  \n",
       "1          97.039828          91.334769  "
      ]
     },
     "execution_count": 161,
     "metadata": {},
     "output_type": "execute_result"
    }
   ],
   "source": [
    "school_size=school_summary[['Total Students','Average Math Score','Average Reading Score',\\\n",
    "                                '% Passing Math','% Passing Reading','% Overall Passing']]\n",
    "school_size.head(2)"
   ]
  },
  {
   "cell_type": "code",
   "execution_count": 177,
   "metadata": {
    "collapsed": false
   },
   "outputs": [
    {
     "name": "stderr",
     "output_type": "stream",
     "text": [
      "C:\\Users\\sumita\\Anaconda3\\lib\\site-packages\\ipykernel\\__main__.py:9: SettingWithCopyWarning: \n",
      "A value is trying to be set on a copy of a slice from a DataFrame.\n",
      "Try using .loc[row_indexer,col_indexer] = value instead\n",
      "\n",
      "See the caveats in the documentation: http://pandas.pydata.org/pandas-docs/stable/indexing.html#indexing-view-versus-copy\n"
     ]
    },
    {
     "data": {
      "text/html": [
       "<div>\n",
       "<table border=\"1\" class=\"dataframe\">\n",
       "  <thead>\n",
       "    <tr style=\"text-align: right;\">\n",
       "      <th></th>\n",
       "      <th>Total Students</th>\n",
       "      <th>Average Math Score</th>\n",
       "      <th>Average Reading Score</th>\n",
       "      <th>% Passing Math</th>\n",
       "      <th>% Passing Reading</th>\n",
       "      <th>% Overall Passing</th>\n",
       "      <th>School Size</th>\n",
       "    </tr>\n",
       "  </thead>\n",
       "  <tbody>\n",
       "    <tr>\n",
       "      <th>0</th>\n",
       "      <td>4976.0</td>\n",
       "      <td>77.048432</td>\n",
       "      <td>81.033963</td>\n",
       "      <td>66.680064</td>\n",
       "      <td>81.933280</td>\n",
       "      <td>54.642283</td>\n",
       "      <td>Large (2000 - 5000)</td>\n",
       "    </tr>\n",
       "    <tr>\n",
       "      <th>1</th>\n",
       "      <td>1858.0</td>\n",
       "      <td>83.061895</td>\n",
       "      <td>83.975780</td>\n",
       "      <td>94.133477</td>\n",
       "      <td>97.039828</td>\n",
       "      <td>91.334769</td>\n",
       "      <td>Medium (1000 - 2000)</td>\n",
       "    </tr>\n",
       "    <tr>\n",
       "      <th>2</th>\n",
       "      <td>2949.0</td>\n",
       "      <td>76.711767</td>\n",
       "      <td>81.158020</td>\n",
       "      <td>65.988471</td>\n",
       "      <td>80.739234</td>\n",
       "      <td>53.204476</td>\n",
       "      <td>Large (2000 - 5000)</td>\n",
       "    </tr>\n",
       "    <tr>\n",
       "      <th>3</th>\n",
       "      <td>2739.0</td>\n",
       "      <td>77.102592</td>\n",
       "      <td>80.746258</td>\n",
       "      <td>68.309602</td>\n",
       "      <td>79.299014</td>\n",
       "      <td>54.289887</td>\n",
       "      <td>Large (2000 - 5000)</td>\n",
       "    </tr>\n",
       "    <tr>\n",
       "      <th>4</th>\n",
       "      <td>1468.0</td>\n",
       "      <td>83.351499</td>\n",
       "      <td>83.816757</td>\n",
       "      <td>93.392371</td>\n",
       "      <td>97.138965</td>\n",
       "      <td>90.599455</td>\n",
       "      <td>Medium (1000 - 2000)</td>\n",
       "    </tr>\n",
       "  </tbody>\n",
       "</table>\n",
       "</div>"
      ],
      "text/plain": [
       "   Total Students  Average Math Score  Average Reading Score  % Passing Math  \\\n",
       "0          4976.0           77.048432              81.033963       66.680064   \n",
       "1          1858.0           83.061895              83.975780       94.133477   \n",
       "2          2949.0           76.711767              81.158020       65.988471   \n",
       "3          2739.0           77.102592              80.746258       68.309602   \n",
       "4          1468.0           83.351499              83.816757       93.392371   \n",
       "\n",
       "   % Passing Reading  % Overall Passing           School Size  \n",
       "0          81.933280          54.642283   Large (2000 - 5000)  \n",
       "1          97.039828          91.334769  Medium (1000 - 2000)  \n",
       "2          80.739234          53.204476   Large (2000 - 5000)  \n",
       "3          79.299014          54.289887   Large (2000 - 5000)  \n",
       "4          97.138965          90.599455  Medium (1000 - 2000)  "
      ]
     },
     "execution_count": 177,
     "metadata": {},
     "output_type": "execute_result"
    }
   ],
   "source": [
    "# Create bins in which to place values based \n",
    "stu_bins = [0, 1000, 2000, 5000]\n",
    "# Create labels for these bins\n",
    "\n",
    "size_labels = [\" Small (< 1000)\", \"Medium (1000 - 2000)\", \"Large (2000 - 5000)\"]\n",
    "\n",
    "# Slice the data and place it into bins\n",
    "\n",
    "school_size['School Size']=pd.cut(school_size[\"Total Students\"], stu_bins, labels=size_labels)\n",
    "school_size.head()"
   ]
  },
  {
   "cell_type": "code",
   "execution_count": 178,
   "metadata": {
    "collapsed": false
   },
   "outputs": [],
   "source": [
    "# Create a GroupBy object based upon \"View Group\"\n",
    "size_group = school_size.groupby(\"School Size\")"
   ]
  },
  {
   "cell_type": "code",
   "execution_count": 179,
   "metadata": {
    "collapsed": false
   },
   "outputs": [
    {
     "data": {
      "text/html": [
       "<div>\n",
       "<table border=\"1\" class=\"dataframe\">\n",
       "  <thead>\n",
       "    <tr style=\"text-align: right;\">\n",
       "      <th></th>\n",
       "      <th>School Size</th>\n",
       "      <th>Average Math Score</th>\n",
       "    </tr>\n",
       "  </thead>\n",
       "  <tbody>\n",
       "    <tr>\n",
       "      <th>0</th>\n",
       "      <td>Small (&lt; 1000)</td>\n",
       "      <td>83.82</td>\n",
       "    </tr>\n",
       "    <tr>\n",
       "      <th>1</th>\n",
       "      <td>Medium (1000 - 2000)</td>\n",
       "      <td>83.37</td>\n",
       "    </tr>\n",
       "    <tr>\n",
       "      <th>2</th>\n",
       "      <td>Large (2000 - 5000)</td>\n",
       "      <td>77.75</td>\n",
       "    </tr>\n",
       "  </tbody>\n",
       "</table>\n",
       "</div>"
      ],
      "text/plain": [
       "            School Size  Average Math Score\n",
       "0        Small (< 1000)               83.82\n",
       "1  Medium (1000 - 2000)               83.37\n",
       "2   Large (2000 - 5000)               77.75"
      ]
     },
     "execution_count": 179,
     "metadata": {},
     "output_type": "execute_result"
    }
   ],
   "source": [
    "size_math_score_df = pd.DataFrame(size_group['Average Math Score'].mean())\n",
    "size_math_score_df = round(size_math_score_df['Average Math Score'],2)\n",
    "size_math_score_df=size_math_score_df.reset_index()\n",
    "size_math_score_df.head()"
   ]
  },
  {
   "cell_type": "code",
   "execution_count": 180,
   "metadata": {
    "collapsed": false
   },
   "outputs": [
    {
     "data": {
      "text/html": [
       "<div>\n",
       "<table border=\"1\" class=\"dataframe\">\n",
       "  <thead>\n",
       "    <tr style=\"text-align: right;\">\n",
       "      <th></th>\n",
       "      <th>School Size</th>\n",
       "      <th>Average Math Score</th>\n",
       "    </tr>\n",
       "  </thead>\n",
       "  <tbody>\n",
       "    <tr>\n",
       "      <th>0</th>\n",
       "      <td>Small (&lt; 1000)</td>\n",
       "      <td>83.82</td>\n",
       "    </tr>\n",
       "    <tr>\n",
       "      <th>1</th>\n",
       "      <td>Medium (1000 - 2000)</td>\n",
       "      <td>83.37</td>\n",
       "    </tr>\n",
       "    <tr>\n",
       "      <th>2</th>\n",
       "      <td>Large (2000 - 5000)</td>\n",
       "      <td>77.75</td>\n",
       "    </tr>\n",
       "  </tbody>\n",
       "</table>\n",
       "</div>"
      ],
      "text/plain": [
       "            School Size  Average Math Score\n",
       "0        Small (< 1000)               83.82\n",
       "1  Medium (1000 - 2000)               83.37\n",
       "2   Large (2000 - 5000)               77.75"
      ]
     },
     "execution_count": 180,
     "metadata": {},
     "output_type": "execute_result"
    }
   ],
   "source": [
    "size_summary_df=size_math_score_df\n",
    "size_summary_df"
   ]
  },
  {
   "cell_type": "code",
   "execution_count": 181,
   "metadata": {
    "collapsed": false
   },
   "outputs": [
    {
     "data": {
      "text/html": [
       "<div>\n",
       "<table border=\"1\" class=\"dataframe\">\n",
       "  <thead>\n",
       "    <tr style=\"text-align: right;\">\n",
       "      <th></th>\n",
       "      <th>School Size</th>\n",
       "      <th>Average Reading Score</th>\n",
       "    </tr>\n",
       "  </thead>\n",
       "  <tbody>\n",
       "    <tr>\n",
       "      <th>0</th>\n",
       "      <td>Small (&lt; 1000)</td>\n",
       "      <td>83.93</td>\n",
       "    </tr>\n",
       "    <tr>\n",
       "      <th>1</th>\n",
       "      <td>Medium (1000 - 2000)</td>\n",
       "      <td>83.86</td>\n",
       "    </tr>\n",
       "    <tr>\n",
       "      <th>2</th>\n",
       "      <td>Large (2000 - 5000)</td>\n",
       "      <td>81.34</td>\n",
       "    </tr>\n",
       "  </tbody>\n",
       "</table>\n",
       "</div>"
      ],
      "text/plain": [
       "            School Size  Average Reading Score\n",
       "0        Small (< 1000)                  83.93\n",
       "1  Medium (1000 - 2000)                  83.86\n",
       "2   Large (2000 - 5000)                  81.34"
      ]
     },
     "execution_count": 181,
     "metadata": {},
     "output_type": "execute_result"
    }
   ],
   "source": [
    "size_reading_score_df = pd.DataFrame(size_group['Average Reading Score'].mean())\n",
    "size_reading_score_df = round(size_reading_score_df['Average Reading Score'],2)\n",
    "size_reading_score_df=size_reading_score_df.reset_index()\n",
    "size_reading_score_df.head()"
   ]
  },
  {
   "cell_type": "code",
   "execution_count": 182,
   "metadata": {
    "collapsed": false
   },
   "outputs": [
    {
     "data": {
      "text/html": [
       "<div>\n",
       "<table border=\"1\" class=\"dataframe\">\n",
       "  <thead>\n",
       "    <tr style=\"text-align: right;\">\n",
       "      <th></th>\n",
       "      <th>School Size</th>\n",
       "      <th>Average Math Score</th>\n",
       "      <th>Average Reading Score</th>\n",
       "    </tr>\n",
       "  </thead>\n",
       "  <tbody>\n",
       "    <tr>\n",
       "      <th>0</th>\n",
       "      <td>Small (&lt; 1000)</td>\n",
       "      <td>83.82</td>\n",
       "      <td>83.93</td>\n",
       "    </tr>\n",
       "    <tr>\n",
       "      <th>1</th>\n",
       "      <td>Medium (1000 - 2000)</td>\n",
       "      <td>83.37</td>\n",
       "      <td>83.86</td>\n",
       "    </tr>\n",
       "  </tbody>\n",
       "</table>\n",
       "</div>"
      ],
      "text/plain": [
       "            School Size  Average Math Score  Average Reading Score\n",
       "0        Small (< 1000)               83.82                  83.93\n",
       "1  Medium (1000 - 2000)               83.37                  83.86"
      ]
     },
     "execution_count": 182,
     "metadata": {},
     "output_type": "execute_result"
    }
   ],
   "source": [
    "size_summary_df['Average Reading Score']=size_reading_score_df['Average Reading Score']\n",
    "size_summary_df.head(2)"
   ]
  },
  {
   "cell_type": "code",
   "execution_count": 183,
   "metadata": {
    "collapsed": false
   },
   "outputs": [
    {
     "data": {
      "text/html": [
       "<div>\n",
       "<table border=\"1\" class=\"dataframe\">\n",
       "  <thead>\n",
       "    <tr style=\"text-align: right;\">\n",
       "      <th></th>\n",
       "      <th>School Size</th>\n",
       "      <th>Average Math Score</th>\n",
       "      <th>Average Reading Score</th>\n",
       "      <th>% Passing Math</th>\n",
       "    </tr>\n",
       "  </thead>\n",
       "  <tbody>\n",
       "    <tr>\n",
       "      <th>0</th>\n",
       "      <td>Small (&lt; 1000)</td>\n",
       "      <td>83.82</td>\n",
       "      <td>83.93</td>\n",
       "      <td>93.55</td>\n",
       "    </tr>\n",
       "    <tr>\n",
       "      <th>1</th>\n",
       "      <td>Medium (1000 - 2000)</td>\n",
       "      <td>83.37</td>\n",
       "      <td>83.86</td>\n",
       "      <td>93.60</td>\n",
       "    </tr>\n",
       "    <tr>\n",
       "      <th>2</th>\n",
       "      <td>Large (2000 - 5000)</td>\n",
       "      <td>77.75</td>\n",
       "      <td>81.34</td>\n",
       "      <td>69.96</td>\n",
       "    </tr>\n",
       "  </tbody>\n",
       "</table>\n",
       "</div>"
      ],
      "text/plain": [
       "            School Size  Average Math Score  Average Reading Score  \\\n",
       "0        Small (< 1000)               83.82                  83.93   \n",
       "1  Medium (1000 - 2000)               83.37                  83.86   \n",
       "2   Large (2000 - 5000)               77.75                  81.34   \n",
       "\n",
       "   % Passing Math  \n",
       "0           93.55  \n",
       "1           93.60  \n",
       "2           69.96  "
      ]
     },
     "execution_count": 183,
     "metadata": {},
     "output_type": "execute_result"
    }
   ],
   "source": [
    "size_math_pass_df = pd.DataFrame(size_group['% Passing Math'].mean())\n",
    "size_math_pass_df = round(size_math_pass_df['% Passing Math'],2)\n",
    "size_math_pass_df= size_math_pass_df.reset_index()\n",
    "#size_math_pass_df.head()\n",
    "\n",
    "size_summary_df['% Passing Math']=size_math_pass_df['% Passing Math']\n",
    "size_summary_df"
   ]
  },
  {
   "cell_type": "code",
   "execution_count": 184,
   "metadata": {
    "collapsed": false
   },
   "outputs": [
    {
     "data": {
      "text/html": [
       "<div>\n",
       "<table border=\"1\" class=\"dataframe\">\n",
       "  <thead>\n",
       "    <tr style=\"text-align: right;\">\n",
       "      <th></th>\n",
       "      <th>School Size</th>\n",
       "      <th>Average Math Score</th>\n",
       "      <th>Average Reading Score</th>\n",
       "      <th>% Passing Math</th>\n",
       "      <th>% Passing Reading</th>\n",
       "    </tr>\n",
       "  </thead>\n",
       "  <tbody>\n",
       "    <tr>\n",
       "      <th>0</th>\n",
       "      <td>Small (&lt; 1000)</td>\n",
       "      <td>83.82</td>\n",
       "      <td>83.93</td>\n",
       "      <td>93.55</td>\n",
       "      <td>96.61</td>\n",
       "    </tr>\n",
       "    <tr>\n",
       "      <th>1</th>\n",
       "      <td>Medium (1000 - 2000)</td>\n",
       "      <td>83.37</td>\n",
       "      <td>83.86</td>\n",
       "      <td>93.60</td>\n",
       "      <td>92.72</td>\n",
       "    </tr>\n",
       "  </tbody>\n",
       "</table>\n",
       "</div>"
      ],
      "text/plain": [
       "            School Size  Average Math Score  Average Reading Score  \\\n",
       "0        Small (< 1000)               83.82                  83.93   \n",
       "1  Medium (1000 - 2000)               83.37                  83.86   \n",
       "\n",
       "   % Passing Math  % Passing Reading  \n",
       "0           93.55              96.61  \n",
       "1           93.60              92.72  "
      ]
     },
     "execution_count": 184,
     "metadata": {},
     "output_type": "execute_result"
    }
   ],
   "source": [
    "size_reading_pass_df = pd.DataFrame(size_group['% Passing Reading'].mean())\n",
    "size_reading_pass_df = round(size_reading_pass_df['% Passing Reading'],2)\n",
    "size_reading_pass_df= size_reading_pass_df.reset_index()\n",
    "size_reading_pass_df.head()\n",
    "\n",
    "size_summary_df['% Passing Reading']=budget_reading_pass_df['% Passing Reading']\n",
    "size_summary_df.head(2)"
   ]
  },
  {
   "cell_type": "code",
   "execution_count": 185,
   "metadata": {
    "collapsed": false
   },
   "outputs": [
    {
     "data": {
      "text/html": [
       "<div>\n",
       "<table border=\"1\" class=\"dataframe\">\n",
       "  <thead>\n",
       "    <tr style=\"text-align: right;\">\n",
       "      <th></th>\n",
       "      <th>School Size</th>\n",
       "      <th>Average Math Score</th>\n",
       "      <th>Average Reading Score</th>\n",
       "      <th>% Passing Math</th>\n",
       "      <th>% Passing Reading</th>\n",
       "      <th>% Overall Passing</th>\n",
       "    </tr>\n",
       "  </thead>\n",
       "  <tbody>\n",
       "    <tr>\n",
       "      <th>0</th>\n",
       "      <td>Small (&lt; 1000)</td>\n",
       "      <td>83.82</td>\n",
       "      <td>83.93</td>\n",
       "      <td>93.55</td>\n",
       "      <td>96.61</td>\n",
       "      <td>89.88</td>\n",
       "    </tr>\n",
       "    <tr>\n",
       "      <th>1</th>\n",
       "      <td>Medium (1000 - 2000)</td>\n",
       "      <td>83.37</td>\n",
       "      <td>83.86</td>\n",
       "      <td>93.60</td>\n",
       "      <td>92.72</td>\n",
       "      <td>90.62</td>\n",
       "    </tr>\n",
       "    <tr>\n",
       "      <th>2</th>\n",
       "      <td>Large (2000 - 5000)</td>\n",
       "      <td>77.75</td>\n",
       "      <td>81.34</td>\n",
       "      <td>69.96</td>\n",
       "      <td>84.39</td>\n",
       "      <td>58.29</td>\n",
       "    </tr>\n",
       "  </tbody>\n",
       "</table>\n",
       "</div>"
      ],
      "text/plain": [
       "            School Size  Average Math Score  Average Reading Score  \\\n",
       "0        Small (< 1000)               83.82                  83.93   \n",
       "1  Medium (1000 - 2000)               83.37                  83.86   \n",
       "2   Large (2000 - 5000)               77.75                  81.34   \n",
       "\n",
       "   % Passing Math  % Passing Reading  % Overall Passing  \n",
       "0           93.55              96.61              89.88  \n",
       "1           93.60              92.72              90.62  \n",
       "2           69.96              84.39              58.29  "
      ]
     },
     "execution_count": 185,
     "metadata": {},
     "output_type": "execute_result"
    }
   ],
   "source": [
    "size_overall_pass_df = pd.DataFrame(size_group['% Overall Passing'].mean())\n",
    "size_overall_pass_df = round(size_overall_pass_df['% Overall Passing'],2)\n",
    "size_overall_pass_df=size_overall_pass_df.reset_index()\n",
    "size_overall_pass_df.head()\n",
    "\n",
    "size_summary_df['% Overall Passing']=size_overall_pass_df['% Overall Passing']\n",
    "size_summary_df=size_summary_df.rename(columns={'size_bins':\"School Size\"})\n",
    "size_summary_df"
   ]
  },
  {
   "cell_type": "code",
   "execution_count": 186,
   "metadata": {
    "collapsed": false,
    "scrolled": true
   },
   "outputs": [],
   "source": [
    "\n",
    "size_summary_df=size_summary_df.set_index('School Size')"
   ]
  },
  {
   "cell_type": "code",
   "execution_count": 187,
   "metadata": {
    "collapsed": false
   },
   "outputs": [
    {
     "data": {
      "text/html": [
       "<div>\n",
       "<table border=\"1\" class=\"dataframe\">\n",
       "  <thead>\n",
       "    <tr style=\"text-align: right;\">\n",
       "      <th></th>\n",
       "      <th>Average Math Score</th>\n",
       "      <th>Average Reading Score</th>\n",
       "      <th>% Passing Math</th>\n",
       "      <th>% Passing Reading</th>\n",
       "      <th>% Overall Passing</th>\n",
       "    </tr>\n",
       "    <tr>\n",
       "      <th>School Size</th>\n",
       "      <th></th>\n",
       "      <th></th>\n",
       "      <th></th>\n",
       "      <th></th>\n",
       "      <th></th>\n",
       "    </tr>\n",
       "  </thead>\n",
       "  <tbody>\n",
       "    <tr>\n",
       "      <th>Small (&lt; 1000)</th>\n",
       "      <td>83.82</td>\n",
       "      <td>83.93</td>\n",
       "      <td>93.55</td>\n",
       "      <td>96.61</td>\n",
       "      <td>89.88</td>\n",
       "    </tr>\n",
       "    <tr>\n",
       "      <th>Medium (1000 - 2000)</th>\n",
       "      <td>83.37</td>\n",
       "      <td>83.86</td>\n",
       "      <td>93.60</td>\n",
       "      <td>92.72</td>\n",
       "      <td>90.62</td>\n",
       "    </tr>\n",
       "    <tr>\n",
       "      <th>Large (2000 - 5000)</th>\n",
       "      <td>77.75</td>\n",
       "      <td>81.34</td>\n",
       "      <td>69.96</td>\n",
       "      <td>84.39</td>\n",
       "      <td>58.29</td>\n",
       "    </tr>\n",
       "  </tbody>\n",
       "</table>\n",
       "</div>"
      ],
      "text/plain": [
       "                      Average Math Score  Average Reading Score  \\\n",
       "School Size                                                       \n",
       " Small (< 1000)                    83.82                  83.93   \n",
       "Medium (1000 - 2000)               83.37                  83.86   \n",
       "Large (2000 - 5000)                77.75                  81.34   \n",
       "\n",
       "                      % Passing Math  % Passing Reading  % Overall Passing  \n",
       "School Size                                                                 \n",
       " Small (< 1000)                93.55              96.61              89.88  \n",
       "Medium (1000 - 2000)           93.60              92.72              90.62  \n",
       "Large (2000 - 5000)            69.96              84.39              58.29  "
      ]
     },
     "execution_count": 187,
     "metadata": {},
     "output_type": "execute_result"
    }
   ],
   "source": [
    "size_summary_df"
   ]
  },
  {
   "cell_type": "markdown",
   "metadata": {},
   "source": [
    "# Scores by School Type"
   ]
  },
  {
   "cell_type": "markdown",
   "metadata": {},
   "source": [
    "* Perform the same operations as above, based on school size."
   ]
  },
  {
   "cell_type": "markdown",
   "metadata": {},
   "source": [
    "## Scores by School Type"
   ]
  },
  {
   "cell_type": "markdown",
   "metadata": {},
   "source": [
    "* Perform the same operations as above, based on school type"
   ]
  },
  {
   "cell_type": "code",
   "execution_count": 82,
   "metadata": {
    "collapsed": false
   },
   "outputs": [
    {
     "data": {
      "text/html": [
       "<div>\n",
       "<table border=\"1\" class=\"dataframe\">\n",
       "  <thead>\n",
       "    <tr style=\"text-align: right;\">\n",
       "      <th></th>\n",
       "      <th>type</th>\n",
       "      <th>Average Math Score</th>\n",
       "      <th>Average Reading Score</th>\n",
       "      <th>% Passing Math</th>\n",
       "      <th>% Passing Reading</th>\n",
       "      <th>% Overall Passing</th>\n",
       "    </tr>\n",
       "  </thead>\n",
       "  <tbody>\n",
       "    <tr>\n",
       "      <th>0</th>\n",
       "      <td>District</td>\n",
       "      <td>77.048432</td>\n",
       "      <td>81.033963</td>\n",
       "      <td>66.680064</td>\n",
       "      <td>81.933280</td>\n",
       "      <td>54.642283</td>\n",
       "    </tr>\n",
       "    <tr>\n",
       "      <th>1</th>\n",
       "      <td>Charter</td>\n",
       "      <td>83.061895</td>\n",
       "      <td>83.975780</td>\n",
       "      <td>94.133477</td>\n",
       "      <td>97.039828</td>\n",
       "      <td>91.334769</td>\n",
       "    </tr>\n",
       "  </tbody>\n",
       "</table>\n",
       "</div>"
      ],
      "text/plain": [
       "       type  Average Math Score  Average Reading Score  % Passing Math  \\\n",
       "0  District           77.048432              81.033963       66.680064   \n",
       "1   Charter           83.061895              83.975780       94.133477   \n",
       "\n",
       "   % Passing Reading  % Overall Passing  \n",
       "0          81.933280          54.642283  \n",
       "1          97.039828          91.334769  "
      ]
     },
     "execution_count": 82,
     "metadata": {},
     "output_type": "execute_result"
    }
   ],
   "source": [
    "school_type=school_summary[['type','Average Math Score','Average Reading Score',\\\n",
    "                                '% Passing Math','% Passing Reading','% Overall Passing']]\n",
    "school_type.head(2)"
   ]
  },
  {
   "cell_type": "code",
   "execution_count": 83,
   "metadata": {
    "collapsed": true
   },
   "outputs": [],
   "source": [
    "# Create a GroupBy object based upon \"View Group\"\n",
    "type_group = school_type.groupby(\"type\")"
   ]
  },
  {
   "cell_type": "code",
   "execution_count": 84,
   "metadata": {
    "collapsed": false
   },
   "outputs": [
    {
     "data": {
      "text/html": [
       "<div>\n",
       "<table border=\"1\" class=\"dataframe\">\n",
       "  <thead>\n",
       "    <tr style=\"text-align: right;\">\n",
       "      <th></th>\n",
       "      <th>type</th>\n",
       "      <th>Average Math Score</th>\n",
       "    </tr>\n",
       "  </thead>\n",
       "  <tbody>\n",
       "    <tr>\n",
       "      <th>0</th>\n",
       "      <td>Charter</td>\n",
       "      <td>83.47</td>\n",
       "    </tr>\n",
       "    <tr>\n",
       "      <th>1</th>\n",
       "      <td>District</td>\n",
       "      <td>76.96</td>\n",
       "    </tr>\n",
       "  </tbody>\n",
       "</table>\n",
       "</div>"
      ],
      "text/plain": [
       "       type  Average Math Score\n",
       "0   Charter               83.47\n",
       "1  District               76.96"
      ]
     },
     "execution_count": 84,
     "metadata": {},
     "output_type": "execute_result"
    }
   ],
   "source": [
    "type_math_score_df = pd.DataFrame(type_group['Average Math Score'].mean())\n",
    "type_math_score_df = round(type_math_score_df['Average Math Score'],2)\n",
    "type_math_score_df=type_math_score_df.reset_index()\n",
    "type_math_score_df.head()"
   ]
  },
  {
   "cell_type": "code",
   "execution_count": 85,
   "metadata": {
    "collapsed": false
   },
   "outputs": [
    {
     "data": {
      "text/html": [
       "<div>\n",
       "<table border=\"1\" class=\"dataframe\">\n",
       "  <thead>\n",
       "    <tr style=\"text-align: right;\">\n",
       "      <th></th>\n",
       "      <th>type</th>\n",
       "      <th>Average Math Score</th>\n",
       "    </tr>\n",
       "  </thead>\n",
       "  <tbody>\n",
       "    <tr>\n",
       "      <th>0</th>\n",
       "      <td>Charter</td>\n",
       "      <td>83.47</td>\n",
       "    </tr>\n",
       "    <tr>\n",
       "      <th>1</th>\n",
       "      <td>District</td>\n",
       "      <td>76.96</td>\n",
       "    </tr>\n",
       "  </tbody>\n",
       "</table>\n",
       "</div>"
      ],
      "text/plain": [
       "       type  Average Math Score\n",
       "0   Charter               83.47\n",
       "1  District               76.96"
      ]
     },
     "execution_count": 85,
     "metadata": {},
     "output_type": "execute_result"
    }
   ],
   "source": [
    "type_sumary_df=type_math_score_df\n",
    "type_sumary_df"
   ]
  },
  {
   "cell_type": "code",
   "execution_count": 86,
   "metadata": {
    "collapsed": false
   },
   "outputs": [
    {
     "data": {
      "text/html": [
       "<div>\n",
       "<table border=\"1\" class=\"dataframe\">\n",
       "  <thead>\n",
       "    <tr style=\"text-align: right;\">\n",
       "      <th></th>\n",
       "      <th>type</th>\n",
       "      <th>Average Math Score</th>\n",
       "      <th>Average Reading Score</th>\n",
       "    </tr>\n",
       "  </thead>\n",
       "  <tbody>\n",
       "    <tr>\n",
       "      <th>0</th>\n",
       "      <td>Charter</td>\n",
       "      <td>83.47</td>\n",
       "      <td>83.90</td>\n",
       "    </tr>\n",
       "    <tr>\n",
       "      <th>1</th>\n",
       "      <td>District</td>\n",
       "      <td>76.96</td>\n",
       "      <td>80.97</td>\n",
       "    </tr>\n",
       "  </tbody>\n",
       "</table>\n",
       "</div>"
      ],
      "text/plain": [
       "       type  Average Math Score  Average Reading Score\n",
       "0   Charter               83.47                  83.90\n",
       "1  District               76.96                  80.97"
      ]
     },
     "execution_count": 86,
     "metadata": {},
     "output_type": "execute_result"
    }
   ],
   "source": [
    "type_reading_score_df = pd.DataFrame(type_group['Average Reading Score'].mean())\n",
    "type_reading_score_df = round(type_reading_score_df['Average Reading Score'],2)\n",
    "type_reading_score_df=type_reading_score_df.reset_index()\n",
    "#type_reading_score_df.head()\n",
    "\n",
    "type_sumary_df['Average Reading Score']=type_reading_score_df['Average Reading Score']\n",
    "type_sumary_df"
   ]
  },
  {
   "cell_type": "code",
   "execution_count": 87,
   "metadata": {
    "collapsed": false
   },
   "outputs": [
    {
     "data": {
      "text/html": [
       "<div>\n",
       "<table border=\"1\" class=\"dataframe\">\n",
       "  <thead>\n",
       "    <tr style=\"text-align: right;\">\n",
       "      <th></th>\n",
       "      <th>type</th>\n",
       "      <th>Average Math Score</th>\n",
       "      <th>Average Reading Score</th>\n",
       "      <th>% Passing Math</th>\n",
       "    </tr>\n",
       "  </thead>\n",
       "  <tbody>\n",
       "    <tr>\n",
       "      <th>0</th>\n",
       "      <td>Charter</td>\n",
       "      <td>83.47</td>\n",
       "      <td>83.90</td>\n",
       "      <td>93.62</td>\n",
       "    </tr>\n",
       "    <tr>\n",
       "      <th>1</th>\n",
       "      <td>District</td>\n",
       "      <td>76.96</td>\n",
       "      <td>80.97</td>\n",
       "      <td>66.55</td>\n",
       "    </tr>\n",
       "  </tbody>\n",
       "</table>\n",
       "</div>"
      ],
      "text/plain": [
       "       type  Average Math Score  Average Reading Score  % Passing Math\n",
       "0   Charter               83.47                  83.90           93.62\n",
       "1  District               76.96                  80.97           66.55"
      ]
     },
     "execution_count": 87,
     "metadata": {},
     "output_type": "execute_result"
    }
   ],
   "source": [
    "type_math_pass_df = pd.DataFrame(type_group['% Passing Math'].mean())\n",
    "type_math_pass_df = round(type_math_pass_df['% Passing Math'],2)\n",
    "type_math_pass_df=type_math_pass_df.reset_index()\n",
    "type_math_pass_df.head()\n",
    "\n",
    "type_sumary_df['% Passing Math']=type_math_pass_df['% Passing Math']\n",
    "type_sumary_df.head(2)"
   ]
  },
  {
   "cell_type": "code",
   "execution_count": 88,
   "metadata": {
    "collapsed": false
   },
   "outputs": [
    {
     "data": {
      "text/html": [
       "<div>\n",
       "<table border=\"1\" class=\"dataframe\">\n",
       "  <thead>\n",
       "    <tr style=\"text-align: right;\">\n",
       "      <th></th>\n",
       "      <th>type</th>\n",
       "      <th>Average Math Score</th>\n",
       "      <th>Average Reading Score</th>\n",
       "      <th>% Passing Math</th>\n",
       "      <th>% Passing Reading</th>\n",
       "    </tr>\n",
       "  </thead>\n",
       "  <tbody>\n",
       "    <tr>\n",
       "      <th>0</th>\n",
       "      <td>Charter</td>\n",
       "      <td>83.47</td>\n",
       "      <td>83.90</td>\n",
       "      <td>93.62</td>\n",
       "      <td>96.59</td>\n",
       "    </tr>\n",
       "    <tr>\n",
       "      <th>1</th>\n",
       "      <td>District</td>\n",
       "      <td>76.96</td>\n",
       "      <td>80.97</td>\n",
       "      <td>66.55</td>\n",
       "      <td>80.80</td>\n",
       "    </tr>\n",
       "  </tbody>\n",
       "</table>\n",
       "</div>"
      ],
      "text/plain": [
       "       type  Average Math Score  Average Reading Score  % Passing Math  \\\n",
       "0   Charter               83.47                  83.90           93.62   \n",
       "1  District               76.96                  80.97           66.55   \n",
       "\n",
       "   % Passing Reading  \n",
       "0              96.59  \n",
       "1              80.80  "
      ]
     },
     "execution_count": 88,
     "metadata": {},
     "output_type": "execute_result"
    }
   ],
   "source": [
    "type_reading_pass_df = pd.DataFrame(type_group['% Passing Reading'].mean())\n",
    "type_reading_pass_df = round(type_reading_pass_df['% Passing Reading'],2)\n",
    "type_reading_pass_df=type_reading_pass_df.reset_index()\n",
    "type_reading_pass_df.head()\n",
    "\n",
    "type_sumary_df['% Passing Reading']=type_reading_pass_df['% Passing Reading']\n",
    "type_sumary_df.head(2)"
   ]
  },
  {
   "cell_type": "code",
   "execution_count": 89,
   "metadata": {
    "collapsed": false
   },
   "outputs": [
    {
     "data": {
      "text/html": [
       "<div>\n",
       "<table border=\"1\" class=\"dataframe\">\n",
       "  <thead>\n",
       "    <tr style=\"text-align: right;\">\n",
       "      <th></th>\n",
       "      <th>type</th>\n",
       "      <th>Average Math Score</th>\n",
       "      <th>Average Reading Score</th>\n",
       "      <th>% Passing Math</th>\n",
       "      <th>% Passing Reading</th>\n",
       "      <th>% Overall Passing</th>\n",
       "    </tr>\n",
       "  </thead>\n",
       "  <tbody>\n",
       "    <tr>\n",
       "      <th>0</th>\n",
       "      <td>Charter</td>\n",
       "      <td>83.47</td>\n",
       "      <td>83.90</td>\n",
       "      <td>93.62</td>\n",
       "      <td>96.59</td>\n",
       "      <td>90.43</td>\n",
       "    </tr>\n",
       "    <tr>\n",
       "      <th>1</th>\n",
       "      <td>District</td>\n",
       "      <td>76.96</td>\n",
       "      <td>80.97</td>\n",
       "      <td>66.55</td>\n",
       "      <td>80.80</td>\n",
       "      <td>53.67</td>\n",
       "    </tr>\n",
       "  </tbody>\n",
       "</table>\n",
       "</div>"
      ],
      "text/plain": [
       "       type  Average Math Score  Average Reading Score  % Passing Math  \\\n",
       "0   Charter               83.47                  83.90           93.62   \n",
       "1  District               76.96                  80.97           66.55   \n",
       "\n",
       "   % Passing Reading  % Overall Passing  \n",
       "0              96.59              90.43  \n",
       "1              80.80              53.67  "
      ]
     },
     "execution_count": 89,
     "metadata": {},
     "output_type": "execute_result"
    }
   ],
   "source": [
    "type_overall_pass_df = pd.DataFrame(type_group['% Overall Passing'].mean())\n",
    "type_overall_pass_df = round(type_overall_pass_df['% Overall Passing'],2)\n",
    "type_overall_pass_df=type_overall_pass_df.reset_index()\n",
    "type_overall_pass_df.head()\n",
    "\n",
    "type_sumary_df['% Overall Passing']=type_overall_pass_df['% Overall Passing']\n",
    "type_sumary_df"
   ]
  },
  {
   "cell_type": "code",
   "execution_count": 90,
   "metadata": {
    "collapsed": false
   },
   "outputs": [
    {
     "data": {
      "text/html": [
       "<div>\n",
       "<table border=\"1\" class=\"dataframe\">\n",
       "  <thead>\n",
       "    <tr style=\"text-align: right;\">\n",
       "      <th></th>\n",
       "      <th>School Type</th>\n",
       "      <th>Average Math Score</th>\n",
       "      <th>Average Reading Score</th>\n",
       "      <th>% Passing Math</th>\n",
       "      <th>% Passing Reading</th>\n",
       "      <th>% Overall Passing</th>\n",
       "    </tr>\n",
       "  </thead>\n",
       "  <tbody>\n",
       "    <tr>\n",
       "      <th>0</th>\n",
       "      <td>Charter</td>\n",
       "      <td>83.47</td>\n",
       "      <td>83.90</td>\n",
       "      <td>93.62</td>\n",
       "      <td>96.59</td>\n",
       "      <td>90.43</td>\n",
       "    </tr>\n",
       "    <tr>\n",
       "      <th>1</th>\n",
       "      <td>District</td>\n",
       "      <td>76.96</td>\n",
       "      <td>80.97</td>\n",
       "      <td>66.55</td>\n",
       "      <td>80.80</td>\n",
       "      <td>53.67</td>\n",
       "    </tr>\n",
       "  </tbody>\n",
       "</table>\n",
       "</div>"
      ],
      "text/plain": [
       "  School Type  Average Math Score  Average Reading Score  % Passing Math  \\\n",
       "0     Charter               83.47                  83.90           93.62   \n",
       "1    District               76.96                  80.97           66.55   \n",
       "\n",
       "   % Passing Reading  % Overall Passing  \n",
       "0              96.59              90.43  \n",
       "1              80.80              53.67  "
      ]
     },
     "execution_count": 90,
     "metadata": {},
     "output_type": "execute_result"
    }
   ],
   "source": [
    "type_sumary_df=type_sumary_df.rename(columns={\"type\":\"School Type\"})\n",
    "type_sumary_df"
   ]
  },
  {
   "cell_type": "code",
   "execution_count": 91,
   "metadata": {
    "collapsed": false
   },
   "outputs": [
    {
     "data": {
      "text/html": [
       "<div>\n",
       "<table border=\"1\" class=\"dataframe\">\n",
       "  <thead>\n",
       "    <tr style=\"text-align: right;\">\n",
       "      <th></th>\n",
       "      <th>School Type</th>\n",
       "      <th>Average Math Score</th>\n",
       "      <th>Average Reading Score</th>\n",
       "      <th>% Passing Math</th>\n",
       "      <th>% Passing Reading</th>\n",
       "      <th>% Overall Passing</th>\n",
       "    </tr>\n",
       "    <tr>\n",
       "      <th>School Type</th>\n",
       "      <th></th>\n",
       "      <th></th>\n",
       "      <th></th>\n",
       "      <th></th>\n",
       "      <th></th>\n",
       "      <th></th>\n",
       "    </tr>\n",
       "  </thead>\n",
       "  <tbody>\n",
       "    <tr>\n",
       "      <th>Charter</th>\n",
       "      <td>Charter</td>\n",
       "      <td>83.47</td>\n",
       "      <td>83.90</td>\n",
       "      <td>93.62</td>\n",
       "      <td>96.59</td>\n",
       "      <td>90.43</td>\n",
       "    </tr>\n",
       "    <tr>\n",
       "      <th>District</th>\n",
       "      <td>District</td>\n",
       "      <td>76.96</td>\n",
       "      <td>80.97</td>\n",
       "      <td>66.55</td>\n",
       "      <td>80.80</td>\n",
       "      <td>53.67</td>\n",
       "    </tr>\n",
       "  </tbody>\n",
       "</table>\n",
       "</div>"
      ],
      "text/plain": [
       "            School Type  Average Math Score  Average Reading Score  \\\n",
       "School Type                                                          \n",
       "Charter         Charter               83.47                  83.90   \n",
       "District       District               76.96                  80.97   \n",
       "\n",
       "             % Passing Math  % Passing Reading  % Overall Passing  \n",
       "School Type                                                        \n",
       "Charter               93.62              96.59              90.43  \n",
       "District              66.55              80.80              53.67  "
      ]
     },
     "execution_count": 91,
     "metadata": {},
     "output_type": "execute_result"
    }
   ],
   "source": [
    "type_sumary_df.index=type_sumary_df['School Type']\n",
    "type_sumary_df\n"
   ]
  }
 ],
 "metadata": {
  "anaconda-cloud": {},
  "kernel_info": {
   "name": "python3"
  },
  "kernelspec": {
   "display_name": "Python 3",
   "language": "python",
   "name": "python3"
  },
  "language_info": {
   "codemirror_mode": {
    "name": "ipython",
    "version": 3
   },
   "file_extension": ".py",
   "mimetype": "text/x-python",
   "name": "python",
   "nbconvert_exporter": "python",
   "pygments_lexer": "ipython3",
   "version": "3.6.0"
  },
  "latex_envs": {
   "LaTeX_envs_menu_present": true,
   "autoclose": false,
   "autocomplete": true,
   "bibliofile": "biblio.bib",
   "cite_by": "apalike",
   "current_citInitial": 1,
   "eqLabelWithNumbers": true,
   "eqNumInitial": 1,
   "hotkeys": {
    "equation": "Ctrl-E",
    "itemize": "Ctrl-I"
   },
   "labels_anchors": false,
   "latex_user_defs": false,
   "report_style_numbering": false,
   "user_envs_cfg": false
  },
  "nteract": {
   "version": "0.8.4"
  }
 },
 "nbformat": 4,
 "nbformat_minor": 1
}
